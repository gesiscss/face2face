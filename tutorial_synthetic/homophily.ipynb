{
 "cells": [
  {
   "cell_type": "markdown",
   "metadata": {},
   "source": [
    "# Analysing homophily based on two different null models\n",
    "\n",
    "**Authors**: Andreas Kruff, Johann Schaible, Marcos Oliveira\n",
    "\n",
    "**Version**: 20.04.2020\n",
    "\n",
    "**Description**: To analyze the connectivity of a group of persons (at a conference) for example, this package offers you the possibility to apply two different null models."
   ]
  },
  {
   "cell_type": "markdown",
   "metadata": {},
   "source": [
    "For more information about the methods that are explained in this tutorial you can check out the online documentation of this toolbox here:\n",
    "\n",
    "https://gesiscss.github.io/face2face/"
   ]
  },
  {
   "cell_type": "markdown",
   "metadata": {},
   "source": [
    "## Table of Contents\n",
    "#### [Apply Configuration model on a network](#configuration_model)\n",
    "#### [Plotting histogram for the null model](#histogram)\n",
    "#### [Apply null model with randomized identities](#null_model)\n",
    "#### [Plotting a heatmap from contact matrix](#plot_heatmap)"
   ]
  },
  {
   "cell_type": "code",
   "execution_count": 1,
   "metadata": {},
   "outputs": [],
   "source": [
    "import face2face as f2f\n",
    "\n",
    "df = f2f.Data(\"Synthetic\")"
   ]
  },
  {
   "cell_type": "markdown",
   "metadata": {},
   "source": [
    "The homophily describes the tendency that individuals prefer to interact with other individuals that have similar attributes in terms of the socio-demographic informations for example. For the further analysis of this phenomenon the toolbox provides two null models that randomize the given networks in various ways to test different effects. "
   ]
  },
  {
   "cell_type": "markdown",
   "metadata": {},
   "source": [
    "## Apply Configuration Model on a network\n",
    "<a name=\"configuration_model\"></a>"
   ]
  },
  {
   "cell_type": "markdown",
   "metadata": {},
   "source": [
    "The configuration model also known as the Sneppen-Maslov rewiring is a null model. A null model is a model which is based on a certain hypothesis about the interaction behaviour for example, which then needs to be tested by statistical methods. \n",
    "\n",
    "Configuration model:\n",
    "- randomized connections/links for the participants/nodes\n",
    "- amount of contact from a person stays the same/ node degree stays the same\n",
    "- (amount of contacts between two individuals/link weights get redistributed) \n",
    "\n",
    "In this case the null model all connections between the participants become randomized while every participant still has the same amount of contacts. This null model allows us to compare original scenario with a scenario where the participants behave the same in terms of their connectivity, but with randomized contacts. So we can check if two different groups are more or less connected which each other. If you want to learn more about the methods you can have a look at this paper:\n",
    "\n",
    "**Génois, Mathieu & Zens, Maria & Lechner, Clemens & Rammstedt, Beatrice & Strohmaier, Markus. (2019). Building connections: How scientists meet each other during a conference.**"
   ]
  },
  {
   "cell_type": "markdown",
   "metadata": {},
   "source": [
    "If you want to apply the Configuration model on the data set you can use the function \"configuration_model_label_z_score_mixing_matrix\" and you get the contact matrix with the z-scores.\n",
    "The function has a total of seven parameters. At first you need an object from type \"Data\". The more often you execute the function based on the \"runs\" parameter, the better the result should be in the end, because it is an heuristic approach. With the label parameter you can choose for which attribute you want to apply the null model. \n",
    "With the \"shuffle_label\" parameter you can extend the model by randomizing the peoples attributes. The \"force_simple_graph\"-parameter allows us to delete self edges which occur when we use the \"configuration_model\" function from networkx."
   ]
  },
  {
   "cell_type": "markdown",
   "metadata": {},
   "source": [
    "There are two additional (optional) input parameter \"seed_config_mat\" and \"seed_label\". You can use them if you need fixed results from this function. The input parameters have to be lists with an integer for every run you want to apply."
   ]
  },
  {
   "cell_type": "code",
   "execution_count": 2,
   "metadata": {},
   "outputs": [
    {
     "data": {
      "text/plain": [
       "array([[  2.6862198577215888, -18.076946828870938 ],\n",
       "       [-18.076946828870938 ,  10.452324125724921 ]])"
      ]
     },
     "execution_count": 2,
     "metadata": {},
     "output_type": "execute_result"
    }
   ],
   "source": [
    "contact_matrix, matrices , data_mixing_matrix, abs_matrices = f2f.configuration_model_label_z_score_mixing_matrix(df, runs=10, label=\"type\", shuffle_label=True, force_simple_graph=True)\n",
    "\n",
    "contact_matrix"
   ]
  },
  {
   "cell_type": "markdown",
   "metadata": {},
   "source": [
    "The Configuration Model allows us to analyze if two different groups are significantly more or less connected with each other then with other groups, because we keep the same individual behaviour in connectivity, but we randomize the connections between the people. The most relevant output for you as a user is the contact_matrix. This array contains the z-score combinations based on the label attribute you have choosen as the input parameter. The z-score describes positive and negative deviations as the amount of standard deviations $\\sigma$ from the mean. For the connectivity we compare the link density with regard to the attribute label. What we get is a symmetric matrix with the same x and y axis order so on the diagonal we compare the connectivity within the same group while the other values describe the connectivity between the people of two different groups. So a high positive value indicates a connectivity that is a lot higher then the average and a negative value indicates the opposite.\n",
    "\n",
    "The other output parameters are more relevant for the underlying functions behind the calculation and for the plotting, so if you just want to calculate and plot the homophily you can ignore them."
   ]
  },
  {
   "cell_type": "markdown",
   "metadata": {},
   "source": [
    "## Plotting histogram for the null model\n",
    "<a name=\"histogram\"></a>"
   ]
  },
  {
   "cell_type": "markdown",
   "metadata": {},
   "source": [
    "To visualize the contact matrix for a better comparison of the different expressions for the choosen label/attribute you can use the plot_null_model_subplots function. In the following figure you can see the overall z-score for the different combinations of expressions as a single darkgreen bar plot. The lightgreen bar plots show the amount of edges between the combinations. The input parameter are equal to the one from the null model functions. You just have to choose which null model you want to use by setting the model parameter. You can choose between \"configuration_model\" and \"random_identities\". If you choose \"configuration_model\" you can choose if you want to use the \"shuffle_label\" and the \"force_simple_graph\" parameter."
   ]
  },
  {
   "cell_type": "code",
   "execution_count": 3,
   "metadata": {},
   "outputs": [
    {
     "ename": "AttributeError",
     "evalue": "module 'face2face' has no attribute 'plot_null_model_subplots'",
     "output_type": "error",
     "traceback": [
      "\u001b[1;31m---------------------------------------------------------------------------\u001b[0m",
      "\u001b[1;31mAttributeError\u001b[0m                            Traceback (most recent call last)",
      "\u001b[1;32m<ipython-input-3-8d412db0f73c>\u001b[0m in \u001b[0;36m<module>\u001b[1;34m\u001b[0m\n\u001b[1;32m----> 1\u001b[1;33m \u001b[0mf2f\u001b[0m\u001b[1;33m.\u001b[0m\u001b[0mplot_null_model_subplots\u001b[0m\u001b[1;33m(\u001b[0m\u001b[0mdf\u001b[0m\u001b[1;33m,\u001b[0m \u001b[0mruns\u001b[0m\u001b[1;33m=\u001b[0m\u001b[1;36m100\u001b[0m\u001b[1;33m,\u001b[0m \u001b[0mlabel\u001b[0m\u001b[1;33m=\u001b[0m\u001b[1;34m\"Sex\"\u001b[0m\u001b[1;33m,\u001b[0m\u001b[0mshuffle_label\u001b[0m\u001b[1;33m=\u001b[0m\u001b[1;32mTrue\u001b[0m\u001b[1;33m,\u001b[0m \u001b[0mforce_simple_graph\u001b[0m\u001b[1;33m=\u001b[0m\u001b[1;32mTrue\u001b[0m\u001b[1;33m,\u001b[0m \u001b[0mmodel\u001b[0m\u001b[1;33m=\u001b[0m\u001b[1;34m\"configuration_model\"\u001b[0m\u001b[1;33m)\u001b[0m\u001b[1;33m\u001b[0m\u001b[1;33m\u001b[0m\u001b[0m\n\u001b[0m",
      "\u001b[1;31mAttributeError\u001b[0m: module 'face2face' has no attribute 'plot_null_model_subplots'"
     ]
    }
   ],
   "source": [
    "f2f.plot_null_model_subplots(df, runs=100, label=\"type\",shuffle_label=True, force_simple_graph=True, model=\"configuration_model\")"
   ]
  },
  {
   "cell_type": "markdown",
   "metadata": {},
   "source": [
    "## Apply null model with randomized identities\n",
    "<a name=\"null_model\"></a>"
   ]
  },
  {
   "cell_type": "markdown",
   "metadata": {},
   "source": [
    "There is another null model you can apply on the dataset. The function is called \"shuffle_label_z_score_mixing_matrix\"\n",
    "and you get the contact matrix with the z-scores as output. Except for the \"shuffle_label\" and the \"force_simple_graph\" parameter the parameters are the same."
   ]
  },
  {
   "cell_type": "markdown",
   "metadata": {},
   "source": [
    "Null model 2:\n",
    "- randomizing the identities of the nodes/attributes of the participants\n",
    "- network structure stays the same\n",
    "\n",
    "If you want to learn more about the methods you can have a look at this paper:\n",
    "\n",
    "**Génois, Mathieu & Zens, Maria & Lechner, Clemens & Rammstedt, Beatrice & Strohmaier, Markus. (2019). Building connections: How scientists meet each other during a conference.**\n",
    "\n",
    "In this null model we want to compare if there are group pairs that significantly interact more or less when you keep the connectivity fixed, but you randomize the interactivity."
   ]
  },
  {
   "cell_type": "code",
   "execution_count": 4,
   "metadata": {},
   "outputs": [],
   "source": [
    "contact_matrix, abs_matrices = f2f.shuffle_label_z_score_mixing_matrix(df, runs=10,label=\"type\")"
   ]
  },
  {
   "cell_type": "code",
   "execution_count": 5,
   "metadata": {},
   "outputs": [
    {
     "data": {
      "text/plain": [
       "array([[  4.382121316155895, -14.001181668037688],\n",
       "       [-14.001181668037688,   9.14021908992258 ]])"
      ]
     },
     "execution_count": 5,
     "metadata": {},
     "output_type": "execute_result"
    }
   ],
   "source": [
    "contact_matrix"
   ]
  },
  {
   "cell_type": "markdown",
   "metadata": {},
   "source": [
    "With this null model you can analyze if the correlations between topology and interactions are groupdependant or not. The output can be interpreted in the same way as the one from the configuration model."
   ]
  },
  {
   "cell_type": "markdown",
   "metadata": {},
   "source": [
    "## Plotting a heatmap from contact matrix\n",
    "<a name=\"plot_heatmap\"></a>"
   ]
  },
  {
   "cell_type": "markdown",
   "metadata": {},
   "source": [
    "To plot the contact matrix you can use the \"plot_cm_heatmap\" function."
   ]
  },
  {
   "cell_type": "code",
   "execution_count": 6,
   "metadata": {},
   "outputs": [
    {
     "data": {
      "image/png": "[encoded data removed]",
      "text/plain": [
       "<Figure size 432x288 with 2 Axes>"
      ]
     },
     "metadata": {
      "needs_background": "light"
     },
     "output_type": "display_data"
    }
   ],
   "source": [
    "f2f.plot_cm_heatmap(contact_matrix)"
   ]
  },
  {
   "cell_type": "markdown",
   "metadata": {},
   "source": [
    "The heatmap visualization is based on the paper cited below:\n",
    "\n",
    "Génois, Mathieu & Zens, Maria & Lechner, Clemens & Rammstedt, Beatrice & Strohmaier, Markus. (2019). Building connections: How scientists meet each other during a conference. "
   ]
  },
  {
   "cell_type": "markdown",
   "metadata": {},
   "source": [
    "The Heatmap shows the z-score between every value-attribute combination. Red fields indicate positive deviations, blue fields indicate negative deviations. Z-Scores which are labeled with a white * are significant under p < 0.01 (taking into account a Bonferroni Correction). As you can see the Bonferroni-Correction with the white * is shown for every attribute combination. It seems like we havehHuge outliers, which show that the value-attributes doesn't mix rather well in this case."
   ]
  }
 ],
 "metadata": {
  "kernelspec": {
   "display_name": "Python 3",
   "language": "python",
   "name": "python3"
  },
  "language_info": {
   "codemirror_mode": {
    "name": "ipython",
    "version": 3
   },
   "file_extension": ".py",
   "mimetype": "text/x-python",
   "name": "python",
   "nbconvert_exporter": "python",
   "pygments_lexer": "ipython3",
   "version": "3.7.3"
  }
 },
 "nbformat": 4,
 "nbformat_minor": 2
}
