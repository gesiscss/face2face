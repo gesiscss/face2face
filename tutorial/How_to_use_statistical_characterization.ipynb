{
 "cells": [
  {
   "cell_type": "markdown",
   "metadata": {},
   "source": [
    "# Statistical characterisation of probability distributions\n",
    "\n",
    "**Author**: Andreas Kruff\n",
    "\n",
    "**Version**: 11.05.2020\n",
    "\n",
    "**Description**: This tutorial is based on the statistical characterization tutorial and should show you how to use the powerlaw package in combination with the face2face package with \"real data\". It should teach you how to set the parameters based on the given data set and how to visualize it correctly. "
   ]
  },
  {
   "cell_type": "markdown",
   "metadata": {},
   "source": [
    "The cell below can be ignored, after being executed once. The path has to be set to the directory above to get access to the data and the functions of this libary."
   ]
  },
  {
   "cell_type": "code",
   "execution_count": 1,
   "metadata": {},
   "outputs": [],
   "source": [
    "import os\n",
    "import sys\n",
    "module_path = os.path.abspath(os.path.join('..'))\n",
    "if module_path not in sys.path:\n",
    "    sys.path.append(module_path)"
   ]
  },
  {
   "cell_type": "code",
   "execution_count": 15,
   "metadata": {},
   "outputs": [],
   "source": [
    "from face2face.imports.load_all_data import Data\n",
    "\n",
    "df = Data(\"SFHH09\")"
   ]
  },
  {
   "cell_type": "code",
   "execution_count": 2,
   "metadata": {},
   "outputs": [],
   "source": [
    "from face2face.statistics.distribution import *"
   ]
  },
  {
   "cell_type": "code",
   "execution_count": 17,
   "metadata": {},
   "outputs": [],
   "source": [
    "x_y_list, delta_t_list = calculate_contact_duration(df)"
   ]
  },
  {
   "cell_type": "markdown",
   "metadata": {},
   "source": [
    "Like i explained in the \"statistical_characterization\" you can choose the xmin value for the powerlaw package manually or you can let the function find the xmin value automatically. However if you want to set a xmax value you have to do this manually.\n",
    "To find reasonable values for xmin and xmax manually my advice is to take the data set you want to analyze and plot it at first."
   ]
  },
  {
   "cell_type": "code",
   "execution_count": 23,
   "metadata": {},
   "outputs": [
    {
     "data": {
      "image/png": "[encoded data removed]",
      "text/plain": [
       "<Figure size 432x288 with 1 Axes>"
      ]
     },
     "metadata": {
      "needs_background": "light"
     },
     "output_type": "display_data"
    }
   ],
   "source": [
    "import matplotlib.pyplot as plt\n",
    "\n",
    "plt.plot(x_y_list[1], x_y_list[0], marker=\"o\")\n",
    "plt.yscale(\"log\")\n",
    "plt.xscale(\"log\")"
   ]
  },
  {
   "cell_type": "markdown",
   "metadata": {},
   "source": [
    "If you plot the contact duration with the probability on the y-axis and $\\Delta t$ values on the x-axis and use logarithmic scaled axis we can see where the remarkable parts of this plot can be localized. In the beginning of the plot he is very linear and not very interesting for analysing. Later at the end of the plot the plot is pretty much linear and parallel to the x-axis, which is also not very interesting to analyse in terms of the underlying distribution. Thats why we want to specify the interesting part for the fit object. In this case the interesting part is approximately located between the middle of $10^2$ and $10^3 \\approx$ 500 and closely before $10^3 \\approx$ 900."
   ]
  },
  {
   "cell_type": "code",
   "execution_count": 63,
   "metadata": {},
   "outputs": [],
   "source": [
    "import powerlaw\n",
    "fit = powerlaw.Fit(delta_t_list, xmin=500, xmax=900)"
   ]
  },
  {
   "cell_type": "markdown",
   "metadata": {},
   "source": [
    "As you can see below the estimated xmin value was pretty close to the automatically calculated xmin value from the powerlaw package. The xmax value was not generated automatically as you can see."
   ]
  },
  {
   "cell_type": "code",
   "execution_count": 49,
   "metadata": {},
   "outputs": [
    {
     "name": "stdout",
     "output_type": "stream",
     "text": [
      "520.0 None\n"
     ]
    },
    {
     "name": "stderr",
     "output_type": "stream",
     "text": [
      "Calculating best minimal value for power law fit\n"
     ]
    }
   ],
   "source": [
    "fit_auto = powerlaw.Fit(delta_t_list)\n",
    "print(fit_auto.xmin, fit_auto.xmax)"
   ]
  },
  {
   "cell_type": "markdown",
   "metadata": {},
   "source": [
    "Because the data set includes values with a time scale we have a continous data set, so we don't have to think about the approximation of a discret data set."
   ]
  },
  {
   "cell_type": "markdown",
   "metadata": {},
   "source": [
    "You should know that a strict power law cannot be a probability distribution. Instead we can create a truncated power function, that is true for a part of the data set. $p(x) = C x^{-\\alpha}$ for $x>x_{min}$. The exponent $\\alpha$ must be bigger than 1 and is typically in the range of $2<\\alpha<3$."
   ]
  },
  {
   "cell_type": "markdown",
   "metadata": {},
   "source": [
    "A good way to set the alpha parameter is to use the parameter_range parameter that i introduced in the \"statistical_characterization\" tutorial."
   ]
  },
  {
   "cell_type": "code",
   "execution_count": 52,
   "metadata": {},
   "outputs": [
    {
     "name": "stderr",
     "output_type": "stream",
     "text": [
      "Calculating best minimal value for power law fit\n"
     ]
    }
   ],
   "source": [
    "parameter_range={\"alpha\": [2, 3], \"sigma\": [None, .2]}\n",
    "\n",
    "fit_set_alpha = powerlaw.Fit(delta_t_list, parameter_range=parameter_range)"
   ]
  },
  {
   "cell_type": "markdown",
   "metadata": {},
   "source": [
    "Obviously it gets harder to create a fit object if you define more parameter ranges in the dictionary. As you can see below the xmin value needed to be reduced so that an $\\alpha$ value between 2 and 3 can be achieved."
   ]
  },
  {
   "cell_type": "code",
   "execution_count": 54,
   "metadata": {},
   "outputs": [
    {
     "name": "stdout",
     "output_type": "stream",
     "text": [
      "2.9999915167681497 320.0 900.0\n"
     ]
    }
   ],
   "source": [
    "print(fit_set_alpha.alpha, fit_set_alpha.xmin,fit.xmax)"
   ]
  },
  {
   "cell_type": "markdown",
   "metadata": {},
   "source": [
    "After we determined reasonable values for xmin and xmax (alpha, sigma), we can use the check_distribution method from the face2face library to determine the best fitting distribution that is included in the powerlaw package."
   ]
  },
  {
   "cell_type": "code",
   "execution_count": 69,
   "metadata": {},
   "outputs": [
    {
     "name": "stdout",
     "output_type": "stream",
     "text": [
      "The best fitting distribution is stretched_exponential\n"
     ]
    },
    {
     "name": "stderr",
     "output_type": "stream",
     "text": [
      "Assuming nested distributions\n",
      "Assuming nested distributions\n",
      "Assuming nested distributions\n",
      "C:\\Users\\Andreas\\Anaconda3\\lib\\site-packages\\powerlaw.py:1808: RuntimeWarning: invalid value encountered in double_scalars\n",
      "  R = R/sqrt(n*variance)\n",
      "Assuming nested distributions\n",
      "Assuming nested distributions\n",
      "Assuming nested distributions\n",
      "Assuming nested distributions\n"
     ]
    }
   ],
   "source": [
    "from face2face.statistics.check_distribution import search_best_fit_distribution\n",
    "\n",
    "fit_obj, tupel_list = search_best_fit_distribution(delta_t_list, xmin=500, xmax=900, discret=False)"
   ]
  },
  {
   "cell_type": "markdown",
   "metadata": {},
   "source": [
    "As you can see in the output above the function prints out which distribution fits best to the fit object that was created based on your parameter. In the cell below you can see the loglikelihood ratio for every combination of distribution comparisons."
   ]
  },
  {
   "cell_type": "code",
   "execution_count": 55,
   "metadata": {},
   "outputs": [
    {
     "name": "stdout",
     "output_type": "stream",
     "text": [
      "[(3.4004612817112188, 'lognormal', 'power_law'), (2.110821415234564, 'lognormal', 'exponential'), (2.2932721742320847, 'lognormal', 'truncated_power_law'), (6.409650982779138, 'exponential', 'power_law'), (4.533446074372794, 'exponential', 'truncated_power_law'), (6.841389417343493, 'truncated_power_law', 'power_law'), (3.7036678597339376, 'stretched_exponential', 'power_law'), (2.670045616377132, 'stretched_exponential', 'lognormal'), (2.6006000854420175, 'stretched_exponential', 'exponential'), (2.7400833954709114, 'stretched_exponential', 'truncated_power_law'), (2.670045616377132, 'stretched_exponential', 'lognormal_positive'), (3.4004612817112188, 'lognormal_positive', 'power_law'), (2.110821415234564, 'lognormal_positive', 'exponential'), (2.2932721742320847, 'lognormal_positive', 'truncated_power_law')]\n"
     ]
    }
   ],
   "source": [
    "print(tupel_list)"
   ]
  },
  {
   "cell_type": "markdown",
   "metadata": {},
   "source": [
    "For the plotting you have to consider which of the three functions that were described in the \"statistical_characterization\" fits best (pdf,cdf,ccdf). Because of the fact that an exponential distribution fits better to the selected data than a powerlaw as you can see above the data set seems to be not heavy tailed. This is because an exponential distribution is the absolut minimum alternative to evaluate a heavy-tailedness, but the typical quantitative definition of a \"heavy-tail\" is that it is not exponentially bounded. Another reason why pdf is better for plotting this data set is, because we set a xmax value. The problem is that while the pdf appear in a straight line, cdf and ccdf will bend down rather quickly the closer they get to the xmax value."
   ]
  },
  {
   "cell_type": "code",
   "execution_count": 81,
   "metadata": {},
   "outputs": [
    {
     "data": {
      "text/plain": [
       "<matplotlib.axes._subplots.AxesSubplot at 0x2ba63010cf8>"
      ]
     },
     "execution_count": 81,
     "metadata": {},
     "output_type": "execute_result"
    },
    {
     "data": {
      "image/png": "[encoded data removed]",
      "text/plain": [
       "<Figure size 432x288 with 1 Axes>"
      ]
     },
     "metadata": {
      "needs_background": "light"
     },
     "output_type": "display_data"
    }
   ],
   "source": [
    "fig = fit_obj.plot_pdf(color = \"b\", linewidth =2)\n",
    "fit_obj.power_law.plot_pdf(color = \"g\", linestyle = \"-\", ax = fig)\n",
    "fit_obj.lognormal.plot_pdf(color = \"r\", linestyle = \"-\", ax = fig)\n",
    "fit_obj.exponential.plot_pdf(color = \"c\", linestyle = \"-\", ax = fig)\n",
    "fit_obj.truncated_power_law.plot_pdf(color = \"m\", linestyle = \"-\", ax = fig)\n",
    "fit_obj.stretched_exponential.plot_pdf(color = \"y\", linestyle = \"-\", ax = fig)\n",
    "fit_obj.lognormal_positive.plot_pdf(color = \"k\", linestyle = \"-\", ax = fig)"
   ]
  },
  {
   "cell_type": "markdown",
   "metadata": {},
   "source": [
    "In the result you can see that the area between the empirical (blue) data set and the stretched_exponential distribution (yellow) is the smallest and thats why it's the best fit for the specified parameters."
   ]
  }
 ],
 "metadata": {
  "kernelspec": {
   "display_name": "Python 3",
   "language": "python",
   "name": "python3"
  },
  "language_info": {
   "codemirror_mode": {
    "name": "ipython",
    "version": 3
   },
   "file_extension": ".py",
   "mimetype": "text/x-python",
   "name": "python",
   "nbconvert_exporter": "python",
   "pygments_lexer": "ipython3",
   "version": "3.7.3"
  }
 },
 "nbformat": 4,
 "nbformat_minor": 2
}
