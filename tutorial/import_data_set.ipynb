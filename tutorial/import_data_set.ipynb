{
 "cells": [
  {
   "cell_type": "markdown",
   "metadata": {},
   "source": [
    "# Import predefined or your own datasets \n",
    "\n",
    "**Author**: Andreas Kruff\n",
    "\n",
    "**Version**: 20.04.2020\n",
    "\n",
    "**Description**: The Class \"Data\" allows you to use predefined data sets within the package. You can also import your own data sets to work with them."
   ]
  },
  {
   "cell_type": "markdown",
   "metadata": {},
   "source": [
    "## Table of Contents\n",
    "#### [Import predefined datasets](#predefined)\n",
    "#### [Import your own datasets](#own)\n",
    "#### [Replace String attributes](#replace)"
   ]
  },
  {
   "cell_type": "markdown",
   "metadata": {},
   "source": [
    "# Import predefined datasets \n",
    "<a name=\"predefined\"></a>"
   ]
  },
  {
   "cell_type": "markdown",
   "metadata": {},
   "source": [
    "The cell below can be ignored, after being executed once. The path has to be set to the directory above to get access to the data and the functions of this libary."
   ]
  },
  {
   "cell_type": "code",
   "execution_count": 1,
   "metadata": {},
   "outputs": [],
   "source": [
    "import os\n",
    "import sys\n",
    "module_path = os.path.abspath(os.path.join('..'))\n",
    "if module_path not in sys.path:\n",
    "    sys.path.append(module_path)"
   ]
  },
  {
   "cell_type": "markdown",
   "metadata": {},
   "source": [
    "At first we have to import the Class with its functions."
   ]
  },
  {
   "cell_type": "code",
   "execution_count": 2,
   "metadata": {},
   "outputs": [],
   "source": [
    "from face2face.imports.load_all_data import Data"
   ]
  },
  {
   "cell_type": "markdown",
   "metadata": {},
   "source": [
    "If you just want to use the predefined datasets you can just one of the following names of the datasets: \"WS16\", \"SFHH\", ...\n",
    "You have to keep in mind, that not every predefined set contains metadata, like the \"WS16\" data set."
   ]
  },
  {
   "cell_type": "code",
   "execution_count": 4,
   "metadata": {},
   "outputs": [
    {
     "name": "stdout",
     "output_type": "stream",
     "text": [
      "       Time  i  j\n",
      "Index            \n",
      "0        20  0  1\n",
      "1        40  1  2\n",
      "2        40  1  3\n",
      "3        40  2  3\n",
      "4        60  4  6\n"
     ]
    }
   ],
   "source": [
    "df = Data(\"test\")\n",
    "print(df.interaction.head())"
   ]
  },
  {
   "cell_type": "code",
   "execution_count": 3,
   "metadata": {},
   "outputs": [
    {
     "name": "stdout",
     "output_type": "stream",
     "text": [
      "             Time    i    j\n",
      "Index                      \n",
      "0      1480486100  125  130\n",
      "1      1480486100    7  130\n",
      "2      1480486100    9  110\n",
      "3      1480486120    9  130\n",
      "4      1480486160  125  130\n",
      "       ID     Age  Sex Country Language  Education  Academic Background    Role Previous participation\n",
      "Index                                                                                                 \n",
      "0       0 0.00000    F      C1       L1        nan                  nan 4.00000                     No\n",
      "1       1 1.00000    F     NaN      NaN    4.00000              4.00000 2.00000                     No\n",
      "2       2 0.00000    F   Other       L2    1.00000              1.00000 2.00000                     No\n",
      "3       3     nan  NaN     NaN      NaN        nan                  nan     nan                    NaN\n",
      "4       4 1.00000    M   Other       L1    4.00000              4.00000 2.00000                    Yes\n"
     ]
    }
   ],
   "source": [
    "df_ws16 = Data(\"WS16\")\n",
    "print(df_ws16.interaction.head())\n",
    "print(df_ws16.metadata.head())"
   ]
  },
  {
   "cell_type": "markdown",
   "metadata": {},
   "source": [
    "If you print the df_sfhh.metadata an error will occur because the object does not contain metadata, but you can still use this object to analyze the tij data set."
   ]
  },
  {
   "cell_type": "code",
   "execution_count": 5,
   "metadata": {},
   "outputs": [
    {
     "name": "stdout",
     "output_type": "stream",
     "text": [
      "        Time     i     j\n",
      "Index                   \n",
      "0      32520  1467  1591\n",
      "1      32560  1513  1591\n",
      "2      32700  1591  1467\n",
      "3      32720  1591  1467\n",
      "4      32740  1591  1467\n"
     ]
    }
   ],
   "source": [
    "df_sfhh = Data(\"SFHH09\")\n",
    "print(df_sfhh.interaction.head())\n",
    "#print(df_sfhh.metadata)"
   ]
  },
  {
   "cell_type": "markdown",
   "metadata": {},
   "source": [
    "## Import your own data sets \n",
    "<a name=\"own\"></a>"
   ]
  },
  {
   "cell_type": "markdown",
   "metadata": {},
   "source": [
    "If you import your own data sets please make sure that the column with the ID's in the data set will be named \"ID\"."
   ]
  },
  {
   "cell_type": "code",
   "execution_count": 13,
   "metadata": {},
   "outputs": [
    {
     "name": "stdout",
     "output_type": "stream",
     "text": [
      "       ID  Age range Gender Country Language  Academic seniority  Academic Background    Role Part. previous edition\n",
      "Index                                                                                                               \n",
      "0       0    0.00000      F      C1       L1                 nan                  nan 4.00000                     No\n",
      "1       1    1.00000      F     NaN      NaN             4.00000              4.00000 2.00000                     No\n",
      "2       2    0.00000      F   Other       L2             1.00000              1.00000 2.00000                     No\n",
      "3       3        nan    NaN     NaN      NaN                 nan                  nan     nan                    NaN\n",
      "4       4    1.00000      M   Other       L1             4.00000              4.00000 2.00000                    Yes\n"
     ]
    }
   ],
   "source": [
    "column_names= [\"ID\", \"Age range\", \"Gender\", \"Country\", \"Language\", \"Academic seniority\",\"Academic Background\",\"Role\", \"Part. previous edition\"]\n",
    "df_ws16 = Data(path_tij= \"../data/WS16/tij_WS16.dat\", path_meta=\"../data/WS16/metadata_WS16.dat\", separator_tij=\"\\t\", separator_meta=\"\\t\", meta_attr_list=column_names)\n",
    "print(df_ws16.metadata.head())"
   ]
  },
  {
   "cell_type": "markdown",
   "metadata": {},
   "source": [
    "If your dataset contains the same metadata attributes in the same order like the predfined datasets you can use the default settings for the column names if the function does not get meta_attr_list as an input parameter."
   ]
  },
  {
   "cell_type": "code",
   "execution_count": 12,
   "metadata": {},
   "outputs": [
    {
     "name": "stdout",
     "output_type": "stream",
     "text": [
      "       ID     Age  Sex Country Language  Education  Academic Background    Role Previous participation\n",
      "Index                                                                                                 \n",
      "0       0 0.00000    F      C1       L1        nan                  nan 4.00000                     No\n",
      "1       1 1.00000    F     NaN      NaN    4.00000              4.00000 2.00000                     No\n",
      "2       2 0.00000    F   Other       L2    1.00000              1.00000 2.00000                     No\n",
      "3       3     nan  NaN     NaN      NaN        nan                  nan     nan                    NaN\n",
      "4       4 1.00000    M   Other       L1    4.00000              4.00000 2.00000                    Yes\n"
     ]
    }
   ],
   "source": [
    "df_ws16 = Data(path_tij= \"../data/WS16/tij_WS16.dat\", path_meta=\"../data/WS16/metadata_WS16.dat\", separator_tij=\"\\t\", separator_meta=\"\\t\", meta_attr_list=None)\n",
    "print(df_ws16.metadata.head())"
   ]
  },
  {
   "cell_type": "markdown",
   "metadata": {},
   "source": [
    "If your dataset already contains a header you can use the header parameter instead of the attr_meta_list. \n",
    "If your dataset contains a header for the metadata use \"meta\" as input for the header parameter."
   ]
  },
  {
   "cell_type": "code",
   "execution_count": 8,
   "metadata": {},
   "outputs": [
    {
     "name": "stdout",
     "output_type": "stream",
     "text": [
      "       0     0.1    F     C1   L1      NA    NA.1       4   No\n",
      "Index                                                         \n",
      "0      1 1.00000    F    NaN  NaN 4.00000 4.00000 2.00000   No\n",
      "1      2 0.00000    F  Other   L2 1.00000 1.00000 2.00000   No\n",
      "2      3     nan  NaN    NaN  NaN     nan     nan     nan  NaN\n",
      "3      4 1.00000    M  Other   L1 4.00000 4.00000 2.00000  Yes\n",
      "4      5 2.00000    M     C1   L1 5.00000 4.00000 3.00000   No\n",
      "             Time    i    j\n",
      "Index                      \n",
      "0      1480486100  125  130\n",
      "1      1480486100    7  130\n",
      "2      1480486100    9  110\n",
      "3      1480486120    9  130\n",
      "4      1480486160  125  130\n"
     ]
    }
   ],
   "source": [
    "df_ws16 = Data(path_tij= \"../data/WS16/tij_WS16.dat\", path_meta=\"../data/WS16/metadata_WS16.dat\", separator_tij=\"\\t\", separator_meta=\"\\t\", header=\"meta\")\n",
    "print(df_ws16.metadata.head())\n",
    "print(df_ws16.interaction.head())"
   ]
  },
  {
   "cell_type": "markdown",
   "metadata": {},
   "source": [
    "If your tij-data already contains a header already and your metadata does not you can either use the default metadata columns or you can use the attr_meta_list. The input parameter for header in this case is \"tij\""
   ]
  },
  {
   "cell_type": "code",
   "execution_count": 9,
   "metadata": {},
   "outputs": [
    {
     "name": "stdout",
     "output_type": "stream",
     "text": [
      "       ID     Age  Sex Country Language  Education  Academic Background    Role Previous participation\n",
      "Index                                                                                                 \n",
      "0       0 0.00000    F      C1       L1        nan                  nan 4.00000                     No\n",
      "1       1 1.00000    F     NaN      NaN    4.00000              4.00000 2.00000                     No\n",
      "2       2 0.00000    F   Other       L2    1.00000              1.00000 2.00000                     No\n",
      "3       3     nan  NaN     NaN      NaN        nan                  nan     nan                    NaN\n",
      "4       4 1.00000    M   Other       L1    4.00000              4.00000 2.00000                    Yes\n",
      "       1480486100  125  130\n",
      "Index                      \n",
      "0      1480486100    7  130\n",
      "1      1480486100    9  110\n",
      "2      1480486120    9  130\n",
      "3      1480486160  125  130\n",
      "4      1480486180    9   21\n"
     ]
    }
   ],
   "source": [
    "df_ws16 = Data(path_tij= \"../data/WS16/tij_WS16.dat\", path_meta=\"../data/WS16/metadata_WS16.dat\", separator_tij=\"\\t\", separator_meta=\"\\t\", header=\"tij\")\n",
    "print(df_ws16.metadata.head())\n",
    "print(df_ws16.interaction.head())"
   ]
  },
  {
   "cell_type": "markdown",
   "metadata": {},
   "source": [
    "If both datasets already got a header you can use the input parameter \"all\"."
   ]
  },
  {
   "cell_type": "code",
   "execution_count": 11,
   "metadata": {},
   "outputs": [
    {
     "name": "stdout",
     "output_type": "stream",
     "text": [
      "       0     0.1    F     C1   L1      NA    NA.1       4   No\n",
      "Index                                                         \n",
      "0      1 1.00000    F    NaN  NaN 4.00000 4.00000 2.00000   No\n",
      "1      2 0.00000    F  Other   L2 1.00000 1.00000 2.00000   No\n",
      "2      3     nan  NaN    NaN  NaN     nan     nan     nan  NaN\n",
      "3      4 1.00000    M  Other   L1 4.00000 4.00000 2.00000  Yes\n",
      "4      5 2.00000    M     C1   L1 5.00000 4.00000 3.00000   No\n",
      "       1480486100  125  130\n",
      "Index                      \n",
      "0      1480486100    7  130\n",
      "1      1480486100    9  110\n",
      "2      1480486120    9  130\n",
      "3      1480486160  125  130\n",
      "4      1480486180    9   21\n"
     ]
    }
   ],
   "source": [
    "df_ws16 = Data(path_tij= \"../data/WS16/tij_WS16.dat\", path_meta=\"../data/WS16/metadata_WS16.dat\", separator_tij=\"\\t\", separator_meta=\"\\t\", header=\"all\")\n",
    "print(df_ws16.metadata.head())\n",
    "print(df_ws16.interaction.head())"
   ]
  },
  {
   "cell_type": "markdown",
   "metadata": {},
   "source": [
    "## Replace String attributes \n",
    "<a name=\"replace\"></a>"
   ]
  },
  {
   "cell_type": "markdown",
   "metadata": {},
   "source": [
    "For a function in another tutorial you need to transform string attribute values into float values. For this you can use the Class function \"replace_str_attr_to_float\". For every column it will replace the same strings with the same float values."
   ]
  },
  {
   "cell_type": "code",
   "execution_count": 15,
   "metadata": {},
   "outputs": [
    {
     "name": "stdout",
     "output_type": "stream",
     "text": [
      "       ID     Age     Sex  Country  Language  Education  Academic Background    Role  Previous participation\n",
      "Index                                                                                                       \n",
      "0       0 0.00000 1.00000  1.00000   0.00000    2.00000              2.00000 4.00000                 0.00000\n",
      "1       1 1.00000 1.00000  2.00000   2.00000    4.00000              4.00000 2.00000                 0.00000\n",
      "2       2 0.00000 1.00000  1.00000   3.00000    1.00000              1.00000 2.00000                 0.00000\n",
      "3       3 2.00000 2.00000  2.00000   2.00000    2.00000              2.00000 2.00000                 2.00000\n",
      "4       4 1.00000 0.00000  1.00000   0.00000    4.00000              4.00000 2.00000                 1.00000\n"
     ]
    }
   ],
   "source": [
    "df_ws16 = Data(\"WS16\")\n",
    "test = df_ws16.replace_str_attr_to_float()\n",
    "print(test.metadata.head())"
   ]
  }
 ],
 "metadata": {
  "kernelspec": {
   "display_name": "Python 3",
   "language": "python",
   "name": "python3"
  },
  "language_info": {
   "codemirror_mode": {
    "name": "ipython",
    "version": 3
   },
   "file_extension": ".py",
   "mimetype": "text/x-python",
   "name": "python",
   "nbconvert_exporter": "python",
   "pygments_lexer": "ipython3",
   "version": "3.7.3"
  }
 },
 "nbformat": 4,
 "nbformat_minor": 2
}
