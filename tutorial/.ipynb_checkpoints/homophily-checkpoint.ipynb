{
 "cells": [
  {
   "cell_type": "markdown",
   "metadata": {},
   "source": [
    "# Analysing homophily based on two different null models\n",
    "\n",
    "**Authors**: Andreas Kruff, Johann Schaible, Marcos Oliveira\n",
    "\n",
    "**Version**: 20.04.2020\n",
    "\n",
    "**Description**: To analyze the connectivity of a group of persons (at a conference) for example, this package offers you the possibility to apply two different null models."
   ]
  },
  {
   "cell_type": "markdown",
   "metadata": {},
   "source": [
    "For more information about the methods that are explained in this tutorial you can check out the online documentation of this toolbox here:\n",
    "\n",
    "https://gesiscss.github.io/face2face_public/"
   ]
  },
  {
   "cell_type": "markdown",
   "metadata": {},
   "source": [
    "## Table of Contents\n",
    "#### [Apply Configuration model on a network](#configuration_model)\n",
    "#### [Plotting histogram for the null model](#histogram)\n",
    "#### [Apply null model with randomized identities](#null_model)\n",
    "#### [Plotting a heatmap from contact matrix](#plot_heatmap)"
   ]
  },
  {
   "cell_type": "markdown",
   "metadata": {},
   "source": [
    "The cell below can be ignored, after being executed once. The path has to be set to the directory above to get access to the data and the functions of this toolbox."
   ]
  },
  {
   "cell_type": "code",
   "execution_count": 1,
   "metadata": {},
   "outputs": [],
   "source": [
    "import os\n",
    "import sys\n",
    "module_path = os.path.abspath(os.path.join('..'))\n",
    "if module_path not in sys.path:\n",
    "    sys.path.append(module_path)"
   ]
  },
  {
   "cell_type": "code",
   "execution_count": 2,
   "metadata": {},
   "outputs": [],
   "source": [
    "from face2face.imports.load_all_data import Data\n",
    "\n",
    "df = Data(\"WS16\")"
   ]
  },
  {
   "cell_type": "markdown",
   "metadata": {},
   "source": [
    "## Apply Configuration Model on a network\n",
    "<a name=\"configuration_model\"></a>"
   ]
  },
  {
   "cell_type": "markdown",
   "metadata": {},
   "source": [
    "The configuration model also known as the Sneppen-Maslov rewiring is a null model. A null model is a model which is based on a certain hypothesis about the interaction behaviour for example, which then needs to be tested by statistical methods. \n",
    "\n",
    "Configuration model:\n",
    "- randomized connections/links for the participants/nodes\n",
    "- amount of contact from a person stays the same/ node degree stays the same\n",
    "- (amount of contacts between two individuals/link weights get redistributed) \n",
    "\n",
    "In this case the null model all connections between the participants become randomized while every participant still has the same amount of contacts. This null model allows us to compare original scenario with a scenario where the participants behave the same in terms of their connectivity, but with randomized contacts. So we can check if two different groups are more or less connected which each other. If you want to learn more about the methods you can have a look at this paper:\n",
    "\n",
    "**Génois, Mathieu & Zens, Maria & Lechner, Clemens & Rammstedt, Beatrice & Strohmaier, Markus. (2019). Building connections: How scientists meet each other during a conference.**"
   ]
  },
  {
   "cell_type": "markdown",
   "metadata": {},
   "source": [
    "If you want to apply the Configuration model on the data set you can use the function \"configuration_model_label_z_score_mixing_matrix\" and you get the contact matrix with the z-scores.\n",
    "The function has a total of seven parameters. At first you need an object from type \"Data\". The more often you execute the function based on the \"runs\" parameter, the better the result should be in the end, because it is an heuristic approach. With the label parameter you can choose for which attribute you want to apply the null model. \n",
    "With the \"shuffle_label\" parameter you can extend the model by randomizing the peoples attributes. The \"force_simple_graph\"-parameter allows us to delete self edges which occur when we use the \"configuration_model\" function from networkx."
   ]
  },
  {
   "cell_type": "markdown",
   "metadata": {},
   "source": [
    "There are two additional (optional) input parameter \"seed_config_mat\" and \"seed_label\". You can use them if you need fixed results from this function. The input parameters have to be lists with an integer for every run you want to apply."
   ]
  },
  {
   "cell_type": "code",
   "execution_count": 13,
   "metadata": {},
   "outputs": [
    {
     "data": {
      "text/plain": [
       "array([[ 0.0053674616717123,  0.5541368009847846,  0.9529846375336652,\n",
       "         0.083402634787837 ,  0.5251088044262069, -0.8244800545175114,\n",
       "        -0.9260490841194826],\n",
       "       [ 0.5541368009847846, -0.0933541252884789,  0.6392232710902084,\n",
       "         0.1955006696492974,  1.3876807443761165, -2.380567469175161 ,\n",
       "        -2.0567514302366185],\n",
       "       [ 0.9529846375336652,  0.6392232710902084,  1.2001088122261832,\n",
       "         1.3584915832692943,  1.0253397170100398, -1.5385526648824752,\n",
       "        -3.2085954565290282],\n",
       "       [ 0.083402634787837 ,  0.1955006696492974,  1.3584915832692943,\n",
       "         0.5675247260204097,  2.004494751792777 , -0.8371259228789633,\n",
       "        -1.1243699427926301],\n",
       "       [ 0.5251088044262069,  1.3876807443761165,  1.0253397170100398,\n",
       "         2.004494751792777 ,  0.4123744371798425,  0.0442245719566842,\n",
       "        -0.2746397619595122],\n",
       "       [-0.8244800545175114, -2.380567469175161 , -1.5385526648824752,\n",
       "        -0.8371259228789633,  0.0442245719566842, -1.237082802890754 ,\n",
       "        -3.444537920188045 ],\n",
       "       [-0.9260490841194826, -2.0567514302366185, -3.2085954565290282,\n",
       "        -1.1243699427926301, -0.2746397619595122, -3.444537920188045 ,\n",
       "        -0.7437081695398294]])"
      ]
     },
     "execution_count": 13,
     "metadata": {},
     "output_type": "execute_result"
    }
   ],
   "source": [
    "from face2face.statistics.null_modell import configuration_model_label_z_score_mixing_matrix\n",
    "\n",
    "contact_matrix, matrices , data_mixing_matrix, abs_matrices = configuration_model_label_z_score_mixing_matrix(df, runs=10, label=\"Education\", shuffle_label=True, force_simple_graph=True)\n",
    "\n",
    "contact_matrix"
   ]
  },
  {
   "cell_type": "markdown",
   "metadata": {},
   "source": [
    "The Configuration Model allows us to analyze if two different groups are significantly more or less connected with each other then with other groups, because we keep the same individual behaviour in connectivity, but we randomize the connections between the people. The most relevant output for you as a user is the contact_matrix. This array contains the z-score combinations based on the label attribute you have choosen as the input parameter. The z-score describes positive and negative deviations as the amount of standard deviations $\\sigma$ from the mean. For the connectivity we compare the link density with regard to the attribute label. What we get is a symmetric matrix with the same x and y axis order so on the diagonal we compare the connectivity within the same group while the other values describe the connectivity between the people of two different groups. So a high positive value indicates a connectivity that is a lot higher then the average and a negative value indicates the opposite.\n",
    "\n",
    "The other output parameters are more relevant for the underlying functions behind the calculation and for the plotting, so if you just want to calculate and plot the homophily you can ignore them."
   ]
  },
  {
   "cell_type": "markdown",
   "metadata": {},
   "source": [
    "## Plotting histogram for the null model\n",
    "<a name=\"histogram\"></a>"
   ]
  },
  {
   "cell_type": "markdown",
   "metadata": {},
   "source": [
    "To visualize the contact matrix for a better comparison of the different expressions for the choosen label/attribute you can use the plot_null_model_subplots function. In the following figure you can see the overall z-score for the different combinations of expressions as a single darkgreen bar plot. The lightgreen bar plots show the amount of edges between the combinations. The input parameter are equal to the one from the null model functions. You just have to choose which null model you want to use by setting the model parameter. You can choose between \"configuration_model\" and \"random_identities\". If you choose \"configuration_model\" you can choose if you want to use the \"shuffle_label\" and the \"force_simple_graph\" parameter."
   ]
  },
  {
   "cell_type": "code",
   "execution_count": 14,
   "metadata": {},
   "outputs": [
    {
     "data": {
      "image/png": "[encoded data removed]",
      "text/plain": [
       "<Figure size 360x288 with 8 Axes>"
      ]
     },
     "metadata": {
      "needs_background": "light"
     },
     "output_type": "display_data"
    }
   ],
   "source": [
    "from face2face.visualization.plot_histogram_null_model import plot_null_model_subplots\n",
    "\n",
    "plot_null_model_subplots(df, runs=100, label=\"Sex\",shuffle_label=True, force_simple_graph=True, model=\"configuration_model\")"
   ]
  },
  {
   "cell_type": "markdown",
   "metadata": {},
   "source": [
    "## Apply null model with randomized identities\n",
    "<a name=\"null_model\"></a>"
   ]
  },
  {
   "cell_type": "markdown",
   "metadata": {},
   "source": [
    "There is another null model you can apply on the dataset. The function is called \"shuffle_label_z_score_mixing_matrix\"\n",
    "and you get the contact matrix with the z-scores as output. Except for the \"shuffle_label\" and the \"force_simple_graph\" parameter the parameters are the same."
   ]
  },
  {
   "cell_type": "markdown",
   "metadata": {},
   "source": [
    "Null model 2:\n",
    "- randomizing the identities of the nodes/attributes of the participants\n",
    "- network structure stays the same\n",
    "\n",
    "If you want to learn more about the methods you can have a look at this paper:\n",
    "\n",
    "**Génois, Mathieu & Zens, Maria & Lechner, Clemens & Rammstedt, Beatrice & Strohmaier, Markus. (2019). Building connections: How scientists meet each other during a conference.**\n",
    "\n",
    "In this null model we want to compare if there are group pairs that significantly interact more or less when you keep the connectivity fixed, but you randomize the interactivity."
   ]
  },
  {
   "cell_type": "code",
   "execution_count": 15,
   "metadata": {},
   "outputs": [],
   "source": [
    "from face2face.statistics.null_modell import shuffle_label_z_score_mixing_matrix\n",
    "contact_matrix, abs_matrices = shuffle_label_z_score_mixing_matrix(df, runs=10,label=\"Education\")"
   ]
  },
  {
   "cell_type": "code",
   "execution_count": 16,
   "metadata": {},
   "outputs": [
    {
     "data": {
      "text/plain": [
       "array([[ 0.5604485383178042,  0.7471608582404085,  1.4237922349132601,\n",
       "         0.8284961774187338,  1.0195857032052114, -0.5937006128972517,\n",
       "        -4.130921946615826 ],\n",
       "       [ 0.7471608582404085,  0.262311531293501 ,  0.3340704874951456,\n",
       "         0.5232218612309274,  1.3788910212595669, -1.8651130528588689,\n",
       "        -3.9898126085272265],\n",
       "       [ 1.4237922349132601,  0.3340704874951456,  0.7155646512351556,\n",
       "         1.6452498140154415,  0.8552913416991149, -2.264446845903306 ,\n",
       "        -4.53254266310579  ],\n",
       "       [ 0.8284961774187338,  0.5232218612309274,  1.6452498140154415,\n",
       "         0.8841118406457529,  1.7686858304188557, -1.344014173623075 ,\n",
       "        -3.7145674293345072],\n",
       "       [ 1.0195857032052114,  1.3788910212595669,  0.8552913416991149,\n",
       "         1.7686858304188557,  0.5419730101158714, -0.3341012065769349,\n",
       "        -2.828427124746193 ],\n",
       "       [-0.5937006128972517, -1.8651130528588689, -2.264446845903306 ,\n",
       "        -1.344014173623075 , -0.3341012065769349, -1.5179418517972914,\n",
       "        -7.276520484602838 ],\n",
       "       [-4.130921946615826 , -3.9898126085272265, -4.53254266310579  ,\n",
       "        -3.7145674293345072, -2.828427124746193 , -7.276520484602838 ,\n",
       "        -2.2360679774997907]])"
      ]
     },
     "execution_count": 16,
     "metadata": {},
     "output_type": "execute_result"
    }
   ],
   "source": [
    "contact_matrix"
   ]
  },
  {
   "cell_type": "markdown",
   "metadata": {},
   "source": [
    "With this null model you can analyze if the correlations between topology and interactions are groupdependant or not. The output can be interpreted in the same way as the one from the configuration model."
   ]
  },
  {
   "cell_type": "markdown",
   "metadata": {},
   "source": [
    "## Plotting a heatmap from contact matrix\n",
    "<a name=\"plot_heatmap\"></a>"
   ]
  },
  {
   "cell_type": "markdown",
   "metadata": {},
   "source": [
    "To plot the contact matrix you can use the \"plot_cm_heatmap\" function."
   ]
  },
  {
   "cell_type": "code",
   "execution_count": 9,
   "metadata": {},
   "outputs": [
    {
     "data": {
      "image/png": "[encoded data removed]",
      "text/plain": [
       "<Figure size 432x288 with 2 Axes>"
      ]
     },
     "metadata": {
      "needs_background": "light"
     },
     "output_type": "display_data"
    }
   ],
   "source": [
    "from face2face.visualization.plot_contact_matrix_heatmap import plot_cm_heatmap\n",
    "\n",
    "plot_cm_heatmap(contact_matrix)"
   ]
  },
  {
   "cell_type": "code",
   "execution_count": 17,
   "metadata": {},
   "outputs": [
    {
     "data": {
      "image/png": "[encoded data removed]",
      "text/plain": [
       "<Figure size 432x288 with 2 Axes>"
      ]
     },
     "metadata": {
      "needs_background": "light"
     },
     "output_type": "display_data"
    }
   ],
   "source": [
    "contact_matrix, matrices , data_mixing_matrix, abs_matrices = configuration_model_label_z_score_mixing_matrix(df, runs=10, label=\"Sex\", shuffle_label=True, force_simple_graph=True)\n",
    "\n",
    "contact_matrix\n",
    "\n",
    "plot_cm_heatmap(contact_matrix)"
   ]
  },
  {
   "cell_type": "markdown",
   "metadata": {},
   "source": [
    "The heatmap visualization is based on the paper cited below:\n",
    "\n",
    "Génois, Mathieu & Zens, Maria & Lechner, Clemens & Rammstedt, Beatrice & Strohmaier, Markus. (2019). Building connections: How scientists meet each other during a conference. "
   ]
  },
  {
   "cell_type": "markdown",
   "metadata": {},
   "source": [
    "The Heatmap shows the z-score between every value-attribute combination. Red fields indicate positive deviations, blue fields indicate negative deviations. Z-Scores which are labeled with a white * are significant under p < 0.01 (taking into account a Bonferroni Correction). Huge outliers are pretty rare, which shows that the value-attributes mix rather well in this case."
   ]
  }
 ],
 "metadata": {
  "kernelspec": {
   "display_name": "Python 3",
   "language": "python",
   "name": "python3"
  },
  "language_info": {
   "codemirror_mode": {
    "name": "ipython",
    "version": 3
   },
   "file_extension": ".py",
   "mimetype": "text/x-python",
   "name": "python",
   "nbconvert_exporter": "python",
   "pygments_lexer": "ipython3",
   "version": "3.7.3"
  }
 },
 "nbformat": 4,
 "nbformat_minor": 2
}
