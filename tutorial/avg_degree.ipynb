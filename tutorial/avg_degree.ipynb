{
 "cells": [
  {
   "cell_type": "markdown",
   "metadata": {},
   "source": [
    "# Calculating the average degree for a given dataset\n",
    "\n",
    "**Author**: Andreas Kruff\n",
    "\n",
    "**Version**: 20.04.2020\n",
    "\n",
    "**Description**: To analyze the connectivity of a group of person (at a conference for example), this package offers you the possibility to calculate the average degree for every group and for every attribute and to plot this values in a boxplot for a good comparison of the different communitys."
   ]
  },
  {
   "cell_type": "markdown",
   "metadata": {},
   "source": [
    "## Table of Contents\n",
    "#### [Calculate the Average Degree](#calc_degree)\n",
    "#### [Plot the Average Degree](#plot_degree)\n",
    "#### [Create network graphs from Data object](#network_from_data)\n",
    "#### [Apply Configuration model on a network](#configuration_model)\n",
    "#### [Apply null model with randomized identities](#null_model)\n",
    "#### [Plotting a heatmap from contact matrix](#plot_heatmap)"
   ]
  },
  {
   "cell_type": "markdown",
   "metadata": {},
   "source": [
    "The cell below can be ignored, after being executed once. The path has to be set to the directory above to get access to the data and the functions of this libary."
   ]
  },
  {
   "cell_type": "code",
   "execution_count": 1,
   "metadata": {},
   "outputs": [],
   "source": [
    "import os\n",
    "import sys\n",
    "module_path = os.path.abspath(os.path.join('..'))\n",
    "if module_path not in sys.path:\n",
    "    sys.path.append(module_path)"
   ]
  },
  {
   "cell_type": "code",
   "execution_count": 2,
   "metadata": {},
   "outputs": [],
   "source": [
    "from face2face.imports.load_all_data import Data\n",
    "\n",
    "df = Data(\"WS16\")"
   ]
  },
  {
   "cell_type": "markdown",
   "metadata": {},
   "source": [
    "## Calculate the Average Degree \n",
    "<a name=\"calc_degree\"></a>"
   ]
  },
  {
   "cell_type": "markdown",
   "metadata": {},
   "source": [
    "To get the average degree for every attribute and his related group import and use the function \"avg_degree_attr\". The function needs an object of type \"Data\" as input parameter.\n"
   ]
  },
  {
   "cell_type": "code",
   "execution_count": 3,
   "metadata": {},
   "outputs": [
    {
     "name": "stdout",
     "output_type": "stream",
     "text": [
      "[['Age', [[0.0, 113.75471698113208], [1.0, 113.23913043478261], [2.0, 101.0625], ['GlobalAvG', 109.35211580530489]]], ['Sex', [['F', 111.26530612244898], ['M', 112.16666666666667], ['GlobalAvG', 111.71598639455783]]], ['Country', [['C1', 110.76190476190476], ['Other', 112.35416666666667], ['GlobalAvG', 111.55803571428572]]], ['Language', [['L1', 110.51063829787235], ['L2', 119.55555555555556], ['Other', 109.04651162790698], ['GlobalAvG', 113.0375684937783]]], ['Education', [[4.0, 115.33333333333333], [1.0, 113.11111111111111], [5.0, 114.39393939393939], [2.0, 115.875], [3.0, 119.125], [0.0, 100.08333333333333], [6.0, 89.25], ['GlobalAvG', 109.5959595959596]]], ['Academic Background', [[4.0, 112.1], [1.0, 112.41025641025641], [2.0, 116.15384615384616], [3.0, 115.125], ['GlobalAvG', 113.94727564102564]]], ['Role', [[4.0, 103.5], [2.0, 114.83720930232558], [3.0, 111.69767441860465], [1.0, 109.25], ['GlobalAvG', 109.82122093023256]]], ['Previous participation', [['No', 109.98461538461538], ['Yes', 113.91836734693878], ['GlobalAvG', 111.95149136577709]]]]\n"
     ]
    }
   ],
   "source": [
    "from face2face.statistics.average_degree import avg_degree_attr\n",
    "\n",
    "group_attr_degree_list = avg_degree_attr(df)\n",
    "print(group_attr_degree_list)"
   ]
  },
  {
   "cell_type": "code",
   "execution_count": 16,
   "metadata": {},
   "outputs": [
    {
     "name": "stdout",
     "output_type": "stream",
     "text": [
      "[['Age', [[0.0, 113.75471698113208], [1.0, 113.23913043478261], [2.0, 101.0625], ['GlobalAvG', 109.35211580530489]]], ['Sex', [['F', 111.26530612244898], ['M', 112.16666666666667], ['GlobalAvG', 111.71598639455783]]], ['Country', [['C1', 110.76190476190476], ['Other', 112.35416666666667], ['GlobalAvG', 111.55803571428572]]], ['Language', [['L1', 110.51063829787235], ['L2', 119.55555555555556], ['Other', 109.04651162790698], ['GlobalAvG', 113.0375684937783]]], ['Education', [[0.0, 115.33333333333333], [1.0, 113.11111111111111], [2.0, 114.39393939393939], [3.0, 115.875], [4.0, 119.125], [5.0, 100.08333333333333], [6.0, 89.25], ['GlobalAvG', 109.5959595959596]]], ['Academic Background', [[1.0, 112.1], [2.0, 112.41025641025641], [3.0, 116.15384615384616], [4.0, 115.125], ['GlobalAvG', 113.94727564102564]]], ['Role', [[1.0, 103.5], [2.0, 114.83720930232558], [3.0, 111.69767441860465], [4.0, 109.25], ['GlobalAvG', 109.82122093023256]]], ['Previous participation', [['No', 109.98461538461538], ['Yes', 113.91836734693878], ['GlobalAvG', 111.95149136577709]]]]\n"
     ]
    }
   ],
   "source": [
    "from face2face.statistics.average_degree import new_avg_degree_attr\n",
    "\n",
    "group_attr_degree_list = new_avg_degree_attr(df)\n",
    "print(group_attr_degree_list)"
   ]
  },
  {
   "cell_type": "markdown",
   "metadata": {},
   "source": [
    "For calculating the average and the standard deviation you need the function \"global_avg_var_std\".\n",
    "You have to use the list you created before as import parameter.\n",
    "The Output of this function is a list, that contains the mean, the variance and the standard deviation for the complete data set."
   ]
  },
  {
   "cell_type": "code",
   "execution_count": 4,
   "metadata": {},
   "outputs": [
    {
     "name": "stdout",
     "output_type": "stream",
     "text": [
      "[111.3724567426152, 2.4417593669311453, 1.5626129933323687]\n"
     ]
    }
   ],
   "source": [
    "from face2face.statistics.average_degree import global_avg_var_std\n",
    "\n",
    "measures = global_avg_var_std(group_attr_degree_list)\n",
    "print(measures)"
   ]
  },
  {
   "cell_type": "markdown",
   "metadata": {},
   "source": [
    "To get the raw list of degrees for every attribute you can use the function \"group_list_degree\". You need this lists for the \n",
    "following visualization in a boxplot."
   ]
  },
  {
   "cell_type": "code",
   "execution_count": 5,
   "metadata": {},
   "outputs": [
    {
     "name": "stdout",
     "output_type": "stream",
     "text": [
      "[['Age', 0.0, [47, 133, 121, 133, 121, 120, 113, 126, 110, 125, 95, 118, 132, 107, 119, 112, 91, 124, 106, 92, 124, 116, 112, 124, 130, 109, 106, 114, 133, 120, 109, 115, 118, 126, 122, 129, 126, 127, 100, 77, 121, 101, 126, 124, 107, 114, 39, 128, 117, 115, 119, 113, 123]], ['Age', 1.0, [127, 117, 127, 68, 96, 129, 118, 115, 98, 115, 132, 125, 125, 116, 118, 121, 121, 123, 125, 125, 116, 81, 101, 108, 131, 117, 106, 116, 129, 106, 112, 96, 131, 100, 127, 100, 125, 125, 124, 97, 113, 129, 132, 124, 1, 121]]]\n"
     ]
    }
   ],
   "source": [
    "from face2face.statistics.average_degree import group_list_degree\n",
    "\n",
    "attr_degree_lists = group_list_degree(df)\n",
    "print(attr_degree_lists[:2])"
   ]
  },
  {
   "cell_type": "code",
   "execution_count": 6,
   "metadata": {},
   "outputs": [
    {
     "name": "stdout",
     "output_type": "stream",
     "text": [
      "[['Age', 0.0, [47, 133, 121, 133, 121, 120, 113, 126, 110, 125, 95, 118, 132, 107, 119, 112, 91, 124, 106, 92, 124, 116, 112, 124, 130, 109, 106, 114, 133, 120, 109, 115, 118, 126, 122, 129, 126, 127, 100, 77, 121, 101, 126, 124, 107, 114, 39, 128, 117, 115, 119, 113, 123]], ['Age', 1.0, [127, 117, 127, 68, 96, 129, 118, 115, 98, 115, 132, 125, 125, 116, 118, 121, 121, 123, 125, 125, 116, 81, 101, 108, 131, 117, 106, 116, 129, 106, 112, 96, 131, 100, 127, 100, 125, 125, 124, 97, 113, 129, 132, 124, 1, 121]]]\n"
     ]
    },
    {
     "name": "stderr",
     "output_type": "stream",
     "text": [
      "C:\\Users\\Andreas\\Anaconda3\\lib\\site-packages\\pandas\\core\\ops.py:1649: FutureWarning: elementwise comparison failed; returning scalar instead, but in the future will perform elementwise comparison\n",
      "  result = method(y)\n"
     ]
    }
   ],
   "source": [
    "from face2face.statistics.average_degree import new_group_list_degree\n",
    "\n",
    "attr_degree_lists = new_group_list_degree(df)\n",
    "print(attr_degree_lists[:2])"
   ]
  },
  {
   "cell_type": "markdown",
   "metadata": {},
   "source": [
    "## Plot the Average Degree\n",
    "<a name=\"plot_degree\"></a>"
   ]
  },
  {
   "cell_type": "markdown",
   "metadata": {},
   "source": [
    "To plot the average degrees for every attribute you can use the \"plot_avg_degree_group\" function. For the input you need the \n",
    "lists of degrees for every attribute and for a better analysis there is also the global average degree and the global standard\n",
    "deviation plotted in the diagramm. So you also need them as a parameter.\n",
    "For the interpretation of the attributes you can use the given readme file."
   ]
  },
  {
   "cell_type": "code",
   "execution_count": 7,
   "metadata": {
    "scrolled": true
   },
   "outputs": [
    {
     "data": {
      "image/png": "[encoded data removed]",
      "text/plain": [
       "<Figure size 432x288 with 1 Axes>"
      ]
     },
     "metadata": {
      "needs_background": "light"
     },
     "output_type": "display_data"
    }
   ],
   "source": [
    "from face2face.visualization.plot_average_degree_group import plot_avg_degree_group\n",
    "\n",
    "plot_avg_degree_group(attr_degree_lists, measures)"
   ]
  },
  {
   "cell_type": "markdown",
   "metadata": {},
   "source": [
    "The boxplot visualization is based on the paper cited below:\n",
    "\n",
    "Génois, Mathieu & Zens, Maria & Lechner, Clemens & Rammstedt, Beatrice & Strohmaier, Markus. (2019). Building connections: How scientists meet each other during a conference. "
   ]
  },
  {
   "cell_type": "markdown",
   "metadata": {},
   "source": [
    "On the y-axis you have the average degree and on the x-axis you have the different values of an attribute. The whiskers of the box plots indicate the minimum and the maximum degree from every value-attribute. The orange line in a box plot shows the median of this value-attribute and the box shows the upper and the lower quartile. The black horizontal line shows the average degree and the red color transition the standard deviation for all attributes.\n",
    "So the plot allows you to see the differences in the connectivity of every value-attribute. For example people of the value-attribute Education 6.0 which is equal to \"Other\" are a noticeable outlier. "
   ]
  }
 ],
 "metadata": {
  "kernelspec": {
   "display_name": "Python 3",
   "language": "python",
   "name": "python3"
  },
  "language_info": {
   "codemirror_mode": {
    "name": "ipython",
    "version": 3
   },
   "file_extension": ".py",
   "mimetype": "text/x-python",
   "name": "python",
   "nbconvert_exporter": "python",
   "pygments_lexer": "ipython3",
   "version": "3.7.3"
  }
 },
 "nbformat": 4,
 "nbformat_minor": 2
}
