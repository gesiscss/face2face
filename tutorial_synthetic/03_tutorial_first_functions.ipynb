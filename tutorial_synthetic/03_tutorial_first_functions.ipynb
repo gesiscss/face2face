{
 "cells": [
  {
   "cell_type": "markdown",
   "metadata": {},
   "source": [
    "# Describing the functionality of pandas, networkx and the basic functions from the face2face library\n",
    "\n",
    "**Authors**: Andreas Kruff, Johann Schaible, Marcos Oliveira\n",
    "\n",
    "**Version**: 12.05.2020\n",
    "\n",
    "**Description**: This tutorial describes the underlying pandas and networkx methods that are used to build the face2face methods for calculating the average degree for different groups and subgroups in this toolbox."
   ]
  },
  {
   "cell_type": "markdown",
   "metadata": {},
   "source": [
    "## Table of Contents\n",
    "#### [Implement the average_degree duration function](#average_degree)\n",
    "#### [Implement the group_list_degree function](#group_list_degree)"
   ]
  },
  {
   "cell_type": "code",
   "execution_count": 1,
   "metadata": {},
   "outputs": [],
   "source": [
    "import face2face as f2f\n",
    "\n",
    "df = f2f.Data(\"Synthetic\")"
   ]
  },
  {
   "cell_type": "markdown",
   "metadata": {},
   "source": [
    "# Explanation of the degree methods"
   ]
  },
  {
   "cell_type": "markdown",
   "metadata": {},
   "source": [
    "The degree of a node (an individual) describes with how many other distinct nodes (individuals) a node was in contact with. This can help us if we use the attributes of this node (like Age, Gender...) to analyze if specific groups are more or less communicative than others. (within and outside of the communitys with the same or different attributes)"
   ]
  },
  {
   "cell_type": "markdown",
   "metadata": {},
   "source": [
    "## How to implement the average_degreee function \n",
    "<a name=\"average_degree\"></a>"
   ]
  },
  {
   "cell_type": "markdown",
   "metadata": {},
   "source": [
    "At first you have to import the networkx library, because it contains functions that simplify and speed up the calculations, that we will do in this tutorial. "
   ]
  },
  {
   "cell_type": "code",
   "execution_count": 2,
   "metadata": {},
   "outputs": [],
   "source": [
    "import networkx"
   ]
  },
  {
   "cell_type": "markdown",
   "metadata": {},
   "source": [
    "At first we have to set up the dataframe for the metadata. As a first step we have to replace every nan value to \"NaN\" to make it better accessible. After that we have to create a networkX graph from this dataframe to use the benefits from this object for the measurement of the degree. For that we use the \"create_network_from_data\" function from the face2face toolbox."
   ]
  },
  {
   "cell_type": "code",
   "execution_count": 3,
   "metadata": {},
   "outputs": [],
   "source": [
    "df_meta_nan = df.metadata.fillna(\"NaN\")\n",
    "network = f2f.create_network_from_data(df)"
   ]
  },
  {
   "cell_type": "markdown",
   "metadata": {},
   "source": [
    "To analyze the degrees based on specific attributes you have to get an overview which attributes are used in the metadata dataset. In this case the \"ID\" will be the attribute in the first column, thats why you have to remove it, because it makes no sense to analyze the \"ID\"."
   ]
  },
  {
   "cell_type": "code",
   "execution_count": 4,
   "metadata": {},
   "outputs": [],
   "source": [
    "parameter_list = []\n",
    "for col in df_meta_nan.columns:\n",
    "    if col != \"ID\":\n",
    "        parameter_list.append(col)"
   ]
  },
  {
   "cell_type": "markdown",
   "metadata": {},
   "source": [
    "As a next step you have to split the \"ID\" column, based on the attribute values in the attribute columns, into multiple lists so that you can use them to measure the average degree in the next step. You don't want to use the rows where the attribute value that you want to analyze is \"NaN\". Thats why you have to filter the dataframe by this condition before using the groupby function in a for loop for every attibute. "
   ]
  },
  {
   "cell_type": "code",
   "execution_count": 5,
   "metadata": {},
   "outputs": [],
   "source": [
    "complete_parameter_value_list = []\n",
    "for i in parameter_list:\n",
    "    parameter_value_list = []\n",
    "    nan_filtered_dataframe = df.metadata.loc[df.metadata[i] != \"NaN\"]\n",
    "    for parameter_values, grouped_by_dataframes in nan_filtered_dataframe.groupby(i):\n",
    "        parameter_value_list.append([grouped_by_dataframes[\"ID\"], parameter_values])\n",
    "    complete_parameter_value_list.append([i, parameter_value_list])"
   ]
  },
  {
   "cell_type": "markdown",
   "metadata": {},
   "source": [
    "Now that you have lists of lists with the ID's for every attribute and every attribute value you can use the network.degree function to get the degrees for the ID's in a list and measure the average degree by accumulating them and dividing them by the length of the list."
   ]
  },
  {
   "cell_type": "code",
   "execution_count": 6,
   "metadata": {},
   "outputs": [],
   "source": [
    "avg_degree_param_list = []\n",
    "for i in complete_parameter_value_list:\n",
    "    value_avg_degree_pair_list = []\n",
    "    for j in i[1]:\n",
    "        avg_degree = 0\n",
    "        for k in j[0]:\n",
    "            avg_degree += network.degree[k]\n",
    "        avg_degree = avg_degree / len(j[0])\n",
    "        value_avg_degree_pair_list.append([j[1], avg_degree])\n",
    "    avg_degree_param_list.append([i[0], value_avg_degree_pair_list])"
   ]
  },
  {
   "cell_type": "markdown",
   "metadata": {},
   "source": [
    "In the end you can also add the total average degree for every attribute to the list by using the attribute value lists from before. "
   ]
  },
  {
   "cell_type": "code",
   "execution_count": 7,
   "metadata": {},
   "outputs": [],
   "source": [
    "for i in avg_degree_param_list:\n",
    "    avg_degree_parameter = 0\n",
    "    for j in i[1]:\n",
    "        avg_degree_parameter += j[1]\n",
    "    avg_degree_parameter = avg_degree_parameter / len(i[1])\n",
    "    i[1].append([\"GlobalAvG\", avg_degree_parameter])"
   ]
  },
  {
   "cell_type": "markdown",
   "metadata": {},
   "source": [
    "## How to implement the group_list_degree function\n",
    "<a name=\"group_list_degree\"></a>"
   ]
  },
  {
   "cell_type": "markdown",
   "metadata": {},
   "source": [
    "The start of this implementation is pretty similar to the avg_degree_attr function so you can skip most of it."
   ]
  },
  {
   "cell_type": "code",
   "execution_count": 8,
   "metadata": {},
   "outputs": [],
   "source": [
    "import networkx"
   ]
  },
  {
   "cell_type": "code",
   "execution_count": 9,
   "metadata": {},
   "outputs": [],
   "source": [
    "df_meta_nan = df.metadata.fillna(\"NaN\")\n",
    "network = f2f.create_network_from_data(df)"
   ]
  },
  {
   "cell_type": "code",
   "execution_count": 10,
   "metadata": {},
   "outputs": [],
   "source": [
    "parameter_list = []\n",
    "for col in df_meta_nan.columns:\n",
    "    if col != \"ID\":\n",
    "        parameter_list.append(col)"
   ]
  },
  {
   "cell_type": "markdown",
   "metadata": {},
   "source": [
    "In this case you just need to get lists for every attribute, attribute value and the related ID's."
   ]
  },
  {
   "cell_type": "code",
   "execution_count": 11,
   "metadata": {},
   "outputs": [],
   "source": [
    "complete_parameter_value_list = []\n",
    "for i in parameter_list:\n",
    "    nan_filtered_dataframe = df.metadata.loc[df.metadata[i] != \"NaN\"]\n",
    "    for parameter_values, grouped_by_dataframes in nan_filtered_dataframe.groupby(i):\n",
    "        complete_parameter_value_list.append([i, parameter_values, list(grouped_by_dataframes[\"ID\"])])"
   ]
  },
  {
   "cell_type": "markdown",
   "metadata": {},
   "source": [
    "As a next step you can replace the ID values by their degree values with the help of network.degree."
   ]
  },
  {
   "cell_type": "code",
   "execution_count": 12,
   "metadata": {},
   "outputs": [],
   "source": [
    "for i in complete_parameter_value_list:\n",
    "    parameter_value_degree_list = []\n",
    "    for j in i[2]:\n",
    "        parameter_value_degree_list.append(network.degree(j))\n",
    "    i[2] = parameter_value_degree_list[:]"
   ]
  },
  {
   "cell_type": "markdown",
   "metadata": {},
   "source": [
    "The lists can be used for comparing the correlation of the communicativity based on the different attribute values. "
   ]
  }
 ],
 "metadata": {
  "kernelspec": {
   "display_name": "Python 3",
   "language": "python",
   "name": "python3"
  },
  "language_info": {
   "codemirror_mode": {
    "name": "ipython",
    "version": 3
   },
   "file_extension": ".py",
   "mimetype": "text/x-python",
   "name": "python",
   "nbconvert_exporter": "python",
   "pygments_lexer": "ipython3",
   "version": "3.7.3"
  }
 },
 "nbformat": 4,
 "nbformat_minor": 2
}
