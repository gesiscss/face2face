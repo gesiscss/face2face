{
 "cells": [
  {
   "cell_type": "markdown",
   "metadata": {},
   "source": [
    "# Statistical characterisation of probability distributions\n",
    "\n",
    "**Authors**: Andreas Kruff, Johann Schaible, Marcos Oliveira\n",
    "\n",
    "**Version**: 11.05.2020\n",
    "\n",
    "**Description**: This tutorial is based on the statistical characterization tutorial and should show you how to use the powerlaw package in combination with the face2face package with \"real data\". It should teach you how to set the parameters based on a given data set and how to visualize it correctly. "
   ]
  },
  {
   "cell_type": "markdown",
   "metadata": {},
   "source": [
    "The data sets that are used in this tutorial are part of the following paper:\n",
    "\n",
    "**Génois, Mathieu & Zens, Maria & Lechner, Clemens & Rammstedt, Beatrice & Strohmaier, Markus. (2019). Building connections: How scientists meet each other during a conference.**\n",
    "\n",
    "The data sets are available here: \n",
    "\n",
    "https://zenodo.org/record/2531537#.X0OObcgzaUl"
   ]
  },
  {
   "cell_type": "markdown",
   "metadata": {},
   "source": [
    "For more information about the methods that are explained in this tutorial you can check out the online documentation of this toolbox here:\n",
    "\n",
    "https://gesiscss.github.io/face2face/"
   ]
  },
  {
   "cell_type": "code",
   "execution_count": 1,
   "metadata": {},
   "outputs": [],
   "source": [
    "import face2face as f2f\n",
    "\n",
    "df = f2f.Data(\"ICCSS17\")"
   ]
  },
  {
   "cell_type": "markdown",
   "metadata": {},
   "source": [
    "If you already did the \"probability_distribution_contact_duration\" tutorial you might remember that the functions of this package have a second return value that we haven't used yet. This value is a list that contains every $\\Delta t$ of the used datasets. We are going to use this lists that for this tutorial."
   ]
  },
  {
   "cell_type": "code",
   "execution_count": 2,
   "metadata": {},
   "outputs": [],
   "source": [
    "x_y_list, delta_t_list = f2f.calculate_contact_duration(df)"
   ]
  },
  {
   "cell_type": "markdown",
   "metadata": {},
   "source": [
    "Like we have seen in the \"statistical_characterization\" tutorial you can choose the xmin value for the powerlaw package manually or you can let the function find the xmin value automatically. However if you want to set a xmax value you have to do this manually.\n",
    "To find reasonable values for xmin and xmax manually my advice is to take the data set you want to analyze and plot it at first."
   ]
  },
  {
   "cell_type": "code",
   "execution_count": 12,
   "metadata": {},
   "outputs": [
    {
     "data": {
      "text/plain": [
       "<matplotlib.lines.Line2D at 0x141639e5b38>"
      ]
     },
     "execution_count": 12,
     "metadata": {},
     "output_type": "execute_result"
    },
    {
     "data": {
      "image/png": "[encoded data removed]",
      "text/plain": [
       "<Figure size 432x288 with 1 Axes>"
      ]
     },
     "metadata": {
      "needs_background": "light"
     },
     "output_type": "display_data"
    }
   ],
   "source": [
    "import matplotlib.pyplot as plt\n",
    "\n",
    "plt.plot(x_y_list[1], x_y_list[0], marker=\"o\")\n",
    "plt.yscale(\"log\")\n",
    "plt.xscale(\"log\")\n",
    "plt.axvline(x=700,  color='k', linestyle='--')\n",
    "plt.axvline(x=4000,  color='k', linestyle='--')"
   ]
  },
  {
   "cell_type": "markdown",
   "metadata": {},
   "source": [
    "If you plot the contact duration with the probability on the y-axis and $\\Delta t$ values on the x-axis and use logarithmic scaled axis we can see where the remarkable parts of this plot can be localized. In the beginning of the plot he is very linear and not very interesting for analysing. Thats why we want to specify the interesting part for the fit object. In this case the interesting part is approximately located between the end of $10^2$ and $10^3 \\approx$ 700 and in the middle of $10^3 \\approx$ 4000."
   ]
  },
  {
   "cell_type": "code",
   "execution_count": 15,
   "metadata": {},
   "outputs": [],
   "source": [
    "import powerlaw\n",
    "fit = powerlaw.Fit(delta_t_list, xmin=700, xmax=4000, discrete=True)"
   ]
  },
  {
   "cell_type": "markdown",
   "metadata": {},
   "source": [
    "As you can see below the estimated xmin value was pretty close to the automatically calculated xmin value from the powerlaw package. The xmax value was not generated automatically as you can see."
   ]
  },
  {
   "cell_type": "code",
   "execution_count": 16,
   "metadata": {},
   "outputs": [
    {
     "name": "stderr",
     "output_type": "stream",
     "text": [
      "Calculating best minimal value for power law fit\n"
     ]
    },
    {
     "data": {
      "text/plain": [
       "(760.0, None)"
      ]
     },
     "execution_count": 16,
     "metadata": {},
     "output_type": "execute_result"
    }
   ],
   "source": [
    "fit_auto = powerlaw.Fit(delta_t_list)\n",
    "fit_auto.xmin, fit_auto.xmax"
   ]
  },
  {
   "cell_type": "markdown",
   "metadata": {},
   "source": [
    "Because the data set includes values with a time scale that is not continously defined we have a discrete data set, so we have to think about the approximation of the discret data set. Possible attributes for the approximations are \"round\", \"xmax\" or a numeric x value. You can find the details in the \"Statistical_characterization\" tutorial."
   ]
  },
  {
   "cell_type": "markdown",
   "metadata": {},
   "source": [
    "You should know that a strict power law cannot be a probability distribution. Instead we can create a truncated power function, that is true for a part of the data set. $p(x) = C x^{-\\alpha}$ for $x>x_{min}$. The exponent $\\alpha$ must be bigger than 1 and is typically in the range of $2<\\alpha<3$."
   ]
  },
  {
   "cell_type": "markdown",
   "metadata": {},
   "source": [
    "A good way to set the alpha parameter is to use the parameter_range parameter that we introduced in the \"statistical_characterization\" tutorial."
   ]
  },
  {
   "cell_type": "code",
   "execution_count": 17,
   "metadata": {},
   "outputs": [
    {
     "name": "stderr",
     "output_type": "stream",
     "text": [
      "Calculating best minimal value for power law fit\n"
     ]
    }
   ],
   "source": [
    "parameter_range={\"alpha\": [2, 3], \"sigma\": [None, .2]}\n",
    "\n",
    "fit_set_alpha = powerlaw.Fit(delta_t_list, parameter_range=parameter_range)"
   ]
  },
  {
   "cell_type": "markdown",
   "metadata": {},
   "source": [
    "Obviously it gets harder to create a fit object if you define more parameter ranges in the dictionary. As you can see below, the xmin value needed to be reduced so that an $\\alpha$ value between 2 and 3 can be achieved."
   ]
  },
  {
   "cell_type": "code",
   "execution_count": 18,
   "metadata": {},
   "outputs": [
    {
     "data": {
      "text/plain": [
       "(2.3765528073319206, 80.0, 4000.0)"
      ]
     },
     "execution_count": 18,
     "metadata": {},
     "output_type": "execute_result"
    }
   ],
   "source": [
    "fit_set_alpha.alpha, fit_set_alpha.xmin,fit.xmax"
   ]
  },
  {
   "cell_type": "markdown",
   "metadata": {},
   "source": [
    "After we determined reasonable values for xmin and xmax (alpha, sigma), we can use the check_distribution method from the face2face toolbox to determine the best fitting distribution that is included in the powerlaw package."
   ]
  },
  {
   "cell_type": "code",
   "execution_count": 19,
   "metadata": {},
   "outputs": [
    {
     "name": "stdout",
     "output_type": "stream",
     "text": [
      "The best fitting distribution is stretched_exponential\n"
     ]
    },
    {
     "name": "stderr",
     "output_type": "stream",
     "text": [
      "Assuming nested distributions\n",
      "Assuming nested distributions\n",
      "Assuming nested distributions\n",
      "Assuming nested distributions\n",
      "Assuming nested distributions\n",
      "Assuming nested distributions\n",
      "Assuming nested distributions\n"
     ]
    }
   ],
   "source": [
    "fit_obj, tupel_list, best_fit = f2f.search_best_fit_distribution(delta_t_list, xmin=500, xmax=900, discret=False)"
   ]
  },
  {
   "cell_type": "markdown",
   "metadata": {},
   "source": [
    "As you can see in the output above the function prints out which distribution fits best to the fit object that was created based on your parameter. In the cell below you can see the loglikelihood ratio for every combination of distribution comparisons."
   ]
  },
  {
   "cell_type": "code",
   "execution_count": 20,
   "metadata": {},
   "outputs": [
    {
     "name": "stdout",
     "output_type": "stream",
     "text": [
      "[(6.492123454678015, 'lognormal', 'power_law'), (3.2769625995870535, 'lognormal', 'exponential'), (3.780987431513626, 'lognormal', 'truncated_power_law'), (11.698676613992976, 'exponential', 'power_law'), (7.867297263423924, 'exponential', 'truncated_power_law'), (12.648558005408443, 'truncated_power_law', 'power_law'), (7.03683844952444, 'stretched_exponential', 'power_law'), (7.84946104679665, 'stretched_exponential', 'lognormal'), (4.665424802793207, 'stretched_exponential', 'exponential'), (4.9624247325779285, 'stretched_exponential', 'truncated_power_law'), (7.84946104679665, 'stretched_exponential', 'lognormal_positive'), (6.492123454678015, 'lognormal_positive', 'power_law'), (3.2769625995870535, 'lognormal_positive', 'exponential'), (3.780987431513626, 'lognormal_positive', 'truncated_power_law')]\n"
     ]
    }
   ],
   "source": [
    "print(tupel_list)"
   ]
  },
  {
   "cell_type": "markdown",
   "metadata": {},
   "source": [
    "For the plotting you have to consider which of the three functions that were described in the \"statistical_characterization\" fits best (pdf,cdf,ccdf). Because of the fact that an exponential distribution fits better to the selected data than a powerlaw as you can see above the data set seems to be not heavy tailed. This is because an exponential distribution is the absolut minimum alternative to evaluate a heavy-tailedness, but the typical quantitative definition of a \"heavy-tail\" is that it is not exponentially bounded. Another reason why pdf is better for plotting this data set is, because we set a xmax value. The problem is that while the pdf appear in a straight line, cdf and ccdf will bend down rather quickly the closer they get to the xmax value."
   ]
  },
  {
   "cell_type": "code",
   "execution_count": 21,
   "metadata": {},
   "outputs": [
    {
     "data": {
      "text/plain": [
       "<matplotlib.axes._subplots.AxesSubplot at 0x1416626be48>"
      ]
     },
     "execution_count": 21,
     "metadata": {},
     "output_type": "execute_result"
    },
    {
     "data": {
      "image/png": "[encoded data removed]",
      "text/plain": [
       "<Figure size 432x288 with 1 Axes>"
      ]
     },
     "metadata": {
      "needs_background": "light"
     },
     "output_type": "display_data"
    }
   ],
   "source": [
    "fig = fit_obj.plot_pdf(color = \"b\", linewidth =2)\n",
    "fit_obj.power_law.plot_pdf(color = \"g\", linestyle = \"-\", ax = fig)\n",
    "fit_obj.lognormal.plot_pdf(color = \"r\", linestyle = \"-\", ax = fig)\n",
    "fit_obj.exponential.plot_pdf(color = \"c\", linestyle = \"-\", ax = fig)\n",
    "fit_obj.truncated_power_law.plot_pdf(color = \"m\", linestyle = \"-\", ax = fig)\n",
    "fit_obj.stretched_exponential.plot_pdf(color = \"y\", linestyle = \"-\", ax = fig)\n",
    "fit_obj.lognormal_positive.plot_pdf(color = \"k\", linestyle = \"-\", ax = fig)"
   ]
  },
  {
   "cell_type": "markdown",
   "metadata": {},
   "source": [
    "In the result you can see that the area between the empirical (blue) data set and the stretched_exponential distribution (yellow) is the smallest and thats why it's the best fit for the specified parameters."
   ]
  }
 ],
 "metadata": {
  "kernelspec": {
   "display_name": "Python 3",
   "language": "python",
   "name": "python3"
  },
  "language_info": {
   "codemirror_mode": {
    "name": "ipython",
    "version": 3
   },
   "file_extension": ".py",
   "mimetype": "text/x-python",
   "name": "python",
   "nbconvert_exporter": "python",
   "pygments_lexer": "ipython3",
   "version": "3.7.3"
  }
 },
 "nbformat": 4,
 "nbformat_minor": 2
}
