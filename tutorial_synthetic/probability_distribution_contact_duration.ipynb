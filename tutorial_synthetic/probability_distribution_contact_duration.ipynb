{
 "cells": [
  {
   "cell_type": "markdown",
   "metadata": {},
   "source": [
    "# Probability Distribution for different kinds of contact duration\n",
    "\n",
    "**Authors**: Andreas Kruff, Johann Schaible, Marcos Oliveira\n",
    "\n",
    "**Version**: 20.04.2020\n",
    "\n",
    "**Description**: In terms of the probability distribution measurements the face2face toolbox offers you three functions to calculate the probability for contact duration between two people, between a triangle and the duration of inter-contact intervals. "
   ]
  },
  {
   "cell_type": "markdown",
   "metadata": {},
   "source": [
    "For more information about the methods that are explained in this tutorial you can check out the online documentation of this toolbox here:\n",
    "\n",
    "https://gesiscss.github.io/face2face/"
   ]
  },
  {
   "cell_type": "markdown",
   "metadata": {},
   "source": [
    "## Table of Contents\n",
    "#### [Contact Duration (Calculating and Plotting)](#contact_duration)\n",
    "#### [Triangle Duration (Calculating and Plotting)](#triangle_duration)\n",
    "#### [Inter-Contact Duration (Calculating and Plotting)](#inter-contact-duration)"
   ]
  },
  {
   "cell_type": "markdown",
   "metadata": {},
   "source": [
    "At first we have to import a tij data set. For the import we use the Data Class Object that was introduced in the import_data_set tutorial."
   ]
  },
  {
   "cell_type": "code",
   "execution_count": 1,
   "metadata": {
    "scrolled": true
   },
   "outputs": [],
   "source": [
    "import face2face as f2f"
   ]
  },
  {
   "cell_type": "markdown",
   "metadata": {},
   "source": [
    "For now we use the predefined data set, called \"Synthetic\", but you can import your own data sets as well like i showed you in the already mentioned import_data_set tutorial."
   ]
  },
  {
   "cell_type": "code",
   "execution_count": 5,
   "metadata": {},
   "outputs": [],
   "source": [
    "df_synthetic = f2f.Data(\"Synthetic\")"
   ]
  },
  {
   "cell_type": "code",
   "execution_count": 6,
   "metadata": {},
   "outputs": [
    {
     "data": {
      "text/html": [
       "<div>\n",
       "<style scoped>\n",
       "    .dataframe tbody tr th:only-of-type {\n",
       "        vertical-align: middle;\n",
       "    }\n",
       "\n",
       "    .dataframe tbody tr th {\n",
       "        vertical-align: top;\n",
       "    }\n",
       "\n",
       "    .dataframe thead th {\n",
       "        text-align: right;\n",
       "    }\n",
       "</style>\n",
       "<table border=\"1\" class=\"dataframe\">\n",
       "  <thead>\n",
       "    <tr style=\"text-align: right;\">\n",
       "      <th></th>\n",
       "      <th>Time</th>\n",
       "      <th>i</th>\n",
       "      <th>j</th>\n",
       "    </tr>\n",
       "    <tr>\n",
       "      <th>Index</th>\n",
       "      <th></th>\n",
       "      <th></th>\n",
       "      <th></th>\n",
       "    </tr>\n",
       "  </thead>\n",
       "  <tbody>\n",
       "    <tr>\n",
       "      <th>0</th>\n",
       "      <td>20</td>\n",
       "      <td>7</td>\n",
       "      <td>182</td>\n",
       "    </tr>\n",
       "    <tr>\n",
       "      <th>1</th>\n",
       "      <td>40</td>\n",
       "      <td>7</td>\n",
       "      <td>182</td>\n",
       "    </tr>\n",
       "    <tr>\n",
       "      <th>2</th>\n",
       "      <td>40</td>\n",
       "      <td>14</td>\n",
       "      <td>15</td>\n",
       "    </tr>\n",
       "    <tr>\n",
       "      <th>3</th>\n",
       "      <td>40</td>\n",
       "      <td>68</td>\n",
       "      <td>92</td>\n",
       "    </tr>\n",
       "    <tr>\n",
       "      <th>4</th>\n",
       "      <td>40</td>\n",
       "      <td>7</td>\n",
       "      <td>182</td>\n",
       "    </tr>\n",
       "  </tbody>\n",
       "</table>\n",
       "</div>"
      ],
      "text/plain": [
       "       Time   i    j\n",
       "Index               \n",
       "0        20   7  182\n",
       "1        40   7  182\n",
       "2        40  14   15\n",
       "3        40  68   92\n",
       "4        40   7  182"
      ]
     },
     "execution_count": 6,
     "metadata": {},
     "output_type": "execute_result"
    }
   ],
   "source": [
    "df_synthetic.interaction.head()"
   ]
  },
  {
   "cell_type": "markdown",
   "metadata": {},
   "source": [
    "The Dataframe describes that at timestamp x two persons i and j talked for atleast 20 secs with each other. If the pair i and j occur multiple times in consecutive timestamps, they kept talking, if the difference between the timestamps is longer than 20 seconds, there was a break in the conversation."
   ]
  },
  {
   "cell_type": "markdown",
   "metadata": {},
   "source": [
    "# Calculating and Plotting the Distribution of the contact duration <a name = \"contact_duration\"></a>"
   ]
  },
  {
   "cell_type": "markdown",
   "metadata": {},
   "source": [
    "To calculate the probability, that two persons talked for a specific amount of time $\\Delta t$, you can use the function \"calculate_contact_duration\" from the \"distribution\" method.\n",
    "To use this function the function needs a dataframe as a parameter. The function has two lists as output.\n",
    "One list containts the probabilities in one list and the belonging $\\Delta ts$ in an additional list. The other list contains every $\\Delta t$ that is part of the data set. The second list is important for the powerlaw tutorials \"Statistical_characterization\" and \"How_to_use_statistical_characterization\"."
   ]
  },
  {
   "cell_type": "code",
   "execution_count": 7,
   "metadata": {},
   "outputs": [
    {
     "data": {
      "text/plain": [
       "([0.0, 0.0, 0.0, 0.0, 0.0],\n",
       " [20.000000000000004,\n",
       "  22.450275719332307,\n",
       "  25.200743993702087,\n",
       "  28.28818254954597,\n",
       "  31.753874891805587])"
      ]
     },
     "execution_count": 7,
     "metadata": {},
     "output_type": "execute_result"
    }
   ],
   "source": [
    "contact_duration_x_y, delta_t_list = f2f.calculate_contact_duration(df_synthetic)\n",
    "contact_duration_x_y[0][:5], contact_duration_x_y[1][:5]"
   ]
  },
  {
   "cell_type": "markdown",
   "metadata": {},
   "source": [
    "To plot the probability distribution you can use the \"plot_probability_distribution\"-method.\n",
    "For the parameters you need:\n",
    "1. The first list of the \"calculate_contact_duration\"-function\n",
    "2. A list of colors for the color of the marker\n",
    "3. A marker list, where you define the shape of the markers\n",
    "4. A list of the names for the labels to create a legend for the plot\n",
    "\n",
    "The function is defined, so that you can plot multiple datasets with their distributions so you can compare them."
   ]
  },
  {
   "cell_type": "code",
   "execution_count": 9,
   "metadata": {},
   "outputs": [
    {
     "data": {
      "image/png": "[encoded data removed]",
      "text/plain": [
       "<Figure size 432x288 with 1 Axes>"
      ]
     },
     "metadata": {
      "needs_background": "light"
     },
     "output_type": "display_data"
    }
   ],
   "source": [
    "color_list = [\"red\"]\n",
    "marker_list = [\"o\"]\n",
    "label_list = [\"Synthetic\"]\n",
    "f2f.plot_contact_duration([contact_duration_x_y], color_list, marker_list,label_list)"
   ]
  },
  {
   "cell_type": "markdown",
   "metadata": {},
   "source": [
    "The plots in this tutorial are based on the visualization of the paper that is cited below: \n",
    "\n",
    "**Cattuto C, Van den Broeck W, Barrat A, Colizza V, Pinton JF, et al. (2010) Dynamics of Person-to-Person Interactions from Distributed RFID Sensor Networks. PLOS ONE 5(7): e11596. https://doi.org/10.1371/journal.pone.0011596**"
   ]
  },
  {
   "cell_type": "markdown",
   "metadata": {},
   "source": [
    "The y-axis shows the probability for every possible contact duration of the dataset you used. The x-axis shows the related time intervals that occur in this datasets as possible contact durations. The plot shows that short contact durations are highly likely, while the probability decreases the longer the contact duration is. As you can see the probability decreases pretty much linear for contact durations between one minute and 30 minutes. The probability for contact durations which are longer than 30 minutes are pretty similar and pretty much unlikely."
   ]
  },
  {
   "cell_type": "markdown",
   "metadata": {},
   "source": [
    "# Calculating and Plotting the Distribution of the triangle duration <a name= \"triangle_duration\"></a>"
   ]
  },
  {
   "cell_type": "markdown",
   "metadata": {},
   "source": [
    "As a next step we can analyze the duration of contacts between triangles.\n",
    "The function's in- and output works pretty much the same like the one before"
   ]
  },
  {
   "cell_type": "code",
   "execution_count": 10,
   "metadata": {},
   "outputs": [],
   "source": [
    "triangle_x_y, delta_t_list = f2f.calculate_triangle_duration(df_synthetic)"
   ]
  },
  {
   "cell_type": "markdown",
   "metadata": {},
   "source": [
    "Plotting works the same way like before, you just have to import the \"plot_triangle_duration\"-function"
   ]
  },
  {
   "cell_type": "code",
   "execution_count": 11,
   "metadata": {},
   "outputs": [
    {
     "data": {
      "image/png": "[encoded data removed]",
      "text/plain": [
       "<Figure size 432x288 with 1 Axes>"
      ]
     },
     "metadata": {
      "needs_background": "light"
     },
     "output_type": "display_data"
    }
   ],
   "source": [
    "f2f.plot_triangle_duration([triangle_x_y], color_list, marker_list,label_list)"
   ]
  },
  {
   "cell_type": "markdown",
   "metadata": {},
   "source": [
    "The plots in this tutorial are based on the visualization of the paper that is cited below: \n",
    "\n",
    "**Cattuto C, Van den Broeck W, Barrat A, Colizza V, Pinton JF, et al. (2010) Dynamics of Person-to-Person Interactions from Distributed RFID Sensor Networks. PLOS ONE 5(7): e11596. https://doi.org/10.1371/journal.pone.0011596**"
   ]
  },
  {
   "cell_type": "markdown",
   "metadata": {},
   "source": [
    "In this plot the y-axis shows the probability for the contact duration of triangles, so in this case we focus on three people talking to each other at the same time. The x-axis shows the different occuring contact durations for the triangles in this datasets. The range of variation is a lot smaller than in the previous plot. Although you can see almost a linear distribution with a little noise in it for the \"Synthetic\" data set. "
   ]
  },
  {
   "cell_type": "markdown",
   "metadata": {},
   "source": [
    "# Calculating and Plotting the Distribution of the inter-contact duration<a name=\"inter-contact-duration\"></a>"
   ]
  },
  {
   "cell_type": "markdown",
   "metadata": {},
   "source": [
    "At last we can analyze the interval between the contact of person A and B and the contact between A and C.\n",
    "This function works the same way as well."
   ]
  },
  {
   "cell_type": "code",
   "execution_count": 13,
   "metadata": {},
   "outputs": [],
   "source": [
    "intervall_x_y, delta_t_list = f2f.calculate_inter_contact_duration(df_synthetic)"
   ]
  },
  {
   "cell_type": "markdown",
   "metadata": {},
   "source": [
    "For the plotting you need \"plot_inter_contact_duration\"-function this time"
   ]
  },
  {
   "cell_type": "code",
   "execution_count": 14,
   "metadata": {},
   "outputs": [
    {
     "data": {
      "image/png": "[encoded data removed]",
      "text/plain": [
       "<Figure size 432x288 with 1 Axes>"
      ]
     },
     "metadata": {
      "needs_background": "light"
     },
     "output_type": "display_data"
    }
   ],
   "source": [
    "f2f.plot_inter_contact_duration([intervall_x_y], color_list, marker_list,label_list)"
   ]
  },
  {
   "cell_type": "markdown",
   "metadata": {},
   "source": [
    "The plots in this tutorial are based on the visualization of the paper that is cited below: \n",
    "\n",
    "**Cattuto C, Van den Broeck W, Barrat A, Colizza V, Pinton JF, et al. (2010) Dynamics of Person-to-Person Interactions from Distributed RFID Sensor Networks. PLOS ONE 5(7): e11596. https://doi.org/10.1371/journal.pone.0011596**"
   ]
  },
  {
   "cell_type": "markdown",
   "metadata": {},
   "source": [
    "The y-axis of this plot shows the probability for the inter-contact duration and the x-axis the related occuring durations. From the start until the mark of 30 minutes the decreasing probability by an increasing inter-contact duration is pretty linear. After the 30 minutes mark the plot/the probabilty bend down pretty constantly."
   ]
  }
 ],
 "metadata": {
  "kernelspec": {
   "display_name": "Python 3",
   "language": "python",
   "name": "python3"
  },
  "language_info": {
   "codemirror_mode": {
    "name": "ipython",
    "version": 3
   },
   "file_extension": ".py",
   "mimetype": "text/x-python",
   "name": "python",
   "nbconvert_exporter": "python",
   "pygments_lexer": "ipython3",
   "version": "3.7.3"
  }
 },
 "nbformat": 4,
 "nbformat_minor": 2
}
