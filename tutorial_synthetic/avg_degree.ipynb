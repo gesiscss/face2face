{
 "cells": [
  {
   "cell_type": "markdown",
   "metadata": {},
   "source": [
    "# Calculating the average degree for a given dataset\n",
    "\n",
    "**Authors**: Andreas Kruff, Johann Schaible, Marcos Oliveira\n",
    "\n",
    "**Version**: 20.04.2020\n",
    "\n",
    "**Description**: To analyze the connectivity of groups of individuals (at a conference for example), this package offers you the possibility to calculate the average degree for every group and for every attribute and to plot this values in a boxplot for a good comparison of the different communitys."
   ]
  },
  {
   "cell_type": "markdown",
   "metadata": {},
   "source": [
    "For more information about the methods that are explained in this tutorial you can check out the online documentation of this toolbox here:\n",
    "\n",
    "https://gesiscss.github.io/face2face/"
   ]
  },
  {
   "cell_type": "markdown",
   "metadata": {},
   "source": [
    "## Table of Contents\n",
    "#### [Calculate the Average Degree](#calc_degree)\n",
    "#### [Plot the Average Degree](#plot_degree)\n",
    "#### [Create network graphs from Data object](#network_from_data)\n",
    "#### [Apply Configuration model on a network](#configuration_model)\n",
    "#### [Apply null model with randomized identities](#null_model)\n",
    "#### [Plotting a heatmap from contact matrix](#plot_heatmap)"
   ]
  },
  {
   "cell_type": "code",
   "execution_count": 1,
   "metadata": {},
   "outputs": [],
   "source": [
    "import face2face as f2f\n",
    "\n",
    "df = f2f.Data(\"Synthetic\")"
   ]
  },
  {
   "cell_type": "markdown",
   "metadata": {},
   "source": [
    "## Calculate the Average Degree \n",
    "<a name=\"calc_degree\"></a>"
   ]
  },
  {
   "cell_type": "markdown",
   "metadata": {},
   "source": [
    "To get the average degree for every attribute and his related group use the function \"avg_degree_attr\". The function needs an object of type \"Data\" as input parameter."
   ]
  },
  {
   "cell_type": "code",
   "execution_count": 2,
   "metadata": {},
   "outputs": [
    {
     "data": {
      "text/plain": [
       "[['type',\n",
       "  [[0, 59.233333333333334], [1, 69.4], ['GlobalAvG', 64.31666666666666]]]]"
      ]
     },
     "execution_count": 2,
     "metadata": {},
     "output_type": "execute_result"
    }
   ],
   "source": [
    "group_attr_degree_list = f2f.avg_degree_attr(df)\n",
    "group_attr_degree_list"
   ]
  },
  {
   "cell_type": "markdown",
   "metadata": {},
   "source": [
    "For calculating the average and the standard deviation you need the function \"global_avg_var_std\".\n",
    "You have to use the list that you created before as an import parameter.\n",
    "The output of this function is a list, that contains the mean, the variance and the standard deviation for the complete data set."
   ]
  },
  {
   "cell_type": "code",
   "execution_count": 3,
   "metadata": {},
   "outputs": [
    {
     "data": {
      "text/plain": [
       "[64.31666666666666, 0.0, 0.0]"
      ]
     },
     "execution_count": 3,
     "metadata": {},
     "output_type": "execute_result"
    }
   ],
   "source": [
    "measures = f2f.global_avg_var_std(group_attr_degree_list)\n",
    "measures"
   ]
  },
  {
   "cell_type": "markdown",
   "metadata": {},
   "source": [
    "To get the raw list of degrees for every attribute you can use the function \"group_list_degree\". You need this lists for the \n",
    "following visualization in a boxplot. "
   ]
  },
  {
   "cell_type": "code",
   "execution_count": 4,
   "metadata": {},
   "outputs": [
    {
     "name": "stdout",
     "output_type": "stream",
     "text": [
      "[['type', 0, [81, 41, 55, 51, 54, 56, 68, 65, 43, 55, 43, 84, 73, 73, 77, 71, 70, 38, 61, 77, 55, 51, 56, 66, 65, 60, 62, 67, 75, 49, 70, 50, 60, 56, 48, 42, 47, 78, 67, 55, 56, 51, 73, 40, 41, 70, 60, 51, 75, 61, 42, 65, 59, 68, 57, 36, 43, 63, 68, 60]], ['type', 1, [47, 74, 73, 56, 95, 48, 68, 58, 56, 76, 93, 69, 73, 77, 61, 76, 77, 60, 83, 54, 60, 56, 53, 64, 71, 88, 59, 97, 68, 70, 70, 57, 49, 60, 79, 53, 70, 85, 89, 71, 75, 69, 66, 83, 60, 82, 75, 77, 100, 57, 81, 67, 65, 46, 77, 54, 77, 98, 78, 76, 57, 84, 56, 59, 70, 53, 51, 73, 60, 86, 76, 77, 85, 59, 84, 76, 60, 51, 59, 78, 72, 64, 63, 79, 64, 89, 60, 68, 49, 63, 77, 83, 61, 45, 55, 56, 56, 57, 86, 82, 85, 66, 68, 63, 61, 70, 49, 68, 65, 69, 72, 77, 72, 69, 85, 93, 67, 75, 67, 73, 65, 84, 77, 84, 60, 77, 96, 58, 84, 62, 92, 57, 63, 82, 52, 63, 62, 77, 51, 67]]]\n"
     ]
    }
   ],
   "source": [
    "attr_degree_lists = f2f.group_list_degree(df)\n",
    "print(attr_degree_lists[:2])"
   ]
  },
  {
   "cell_type": "markdown",
   "metadata": {},
   "source": [
    "## Plot the Average Degree\n",
    "<a name=\"plot_degree\"></a>"
   ]
  },
  {
   "cell_type": "markdown",
   "metadata": {},
   "source": [
    "To plot the average degree for every attribute you can use the \"plot_avg_degree_group\" function. For the input you need the \n",
    "lists of degrees for every attribute and for a better analysis there is also the global average degree and the global standard\n",
    "deviation plotted in the diagramm. You also need them as a parameter.\n",
    "For the interpretation of the attributes you can use the given readme file."
   ]
  },
  {
   "cell_type": "code",
   "execution_count": 5,
   "metadata": {
    "scrolled": true
   },
   "outputs": [
    {
     "data": {
      "image/png": "[encoded data removed]",
      "text/plain": [
       "<Figure size 432x288 with 1 Axes>"
      ]
     },
     "metadata": {
      "needs_background": "light"
     },
     "output_type": "display_data"
    }
   ],
   "source": [
    "f2f.plot_avg_degree_group(attr_degree_lists, measures)"
   ]
  },
  {
   "cell_type": "markdown",
   "metadata": {},
   "source": [
    "The boxplot visualization is based on the paper cited below:\n",
    "\n",
    "Génois, Mathieu & Zens, Maria & Lechner, Clemens & Rammstedt, Beatrice & Strohmaier, Markus. (2019). Building connections: How scientists meet each other during a conference. "
   ]
  },
  {
   "cell_type": "markdown",
   "metadata": {},
   "source": [
    "On the y-axis you have the average degree and on the x-axis you have the different values of an attribute. The whiskers of the box plots indicate the minimum and the maximum degree from every value-attribute. The orange line in a box plot shows the median of this value-attribute and the box shows the upper and the lower quartile. The variance and the standard deviation are zero in this scenario, because there is just one attribute. The black horizontal line shows the average degree and the red color transition would show the standard deviation for all attributes.\n",
    "So the plot allows you to see the differences in the connectivity of every value-attribute."
   ]
  }
 ],
 "metadata": {
  "kernelspec": {
   "display_name": "Python 3",
   "language": "python",
   "name": "python3"
  },
  "language_info": {
   "codemirror_mode": {
    "name": "ipython",
    "version": 3
   },
   "file_extension": ".py",
   "mimetype": "text/x-python",
   "name": "python",
   "nbconvert_exporter": "python",
   "pygments_lexer": "ipython3",
   "version": "3.7.3"
  }
 },
 "nbformat": 4,
 "nbformat_minor": 2
}
